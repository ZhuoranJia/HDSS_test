{
 "cells": [
  {
   "cell_type": "code",
   "execution_count": 647,
   "metadata": {},
   "outputs": [],
   "source": [
    "%matplotlib inline\n",
    "import numpy as np\n",
    "import compas\n",
    "from compas.datastructures import Mesh\n",
    "import compas.datastructures as ds\n",
    "from compas_plotters import Plotter\n",
    "import matplotlib.pyplot as plt\n",
    "import networkx as nx \n",
    "import json\n",
    "from pathlib import Path\n",
    "from mpl_toolkits.mplot3d import Axes3D"
   ]
  },
  {
   "cell_type": "code",
   "execution_count": 648,
   "metadata": {},
   "outputs": [],
   "source": [
    "fin = open('C:/Users/SID-DRW/OneDrive - Delft University of Technology/Documents/GitHub/HDSS_test/data/my_igml_703.json')\n",
    "j = json.loads(fin.read())\n"
   ]
  },
  {
   "cell_type": "markdown",
   "metadata": {},
   "source": [
    "# Get the Mesh geometry\n",
    "## Get the Mesh vertices"
   ]
  },
  {
   "cell_type": "code",
   "execution_count": 649,
   "metadata": {},
   "outputs": [
    {
     "name": "stdout",
     "output_type": "stream",
     "text": [
      "62\n",
      "[[51.6, 50.15, 50.4], [151.6, 50.15, 50.4], [0.0, 0.0, 0.0], [0.0, 100.0, 0.0], [100.0, 100.0, 0.0], [100.0, 0.0, 0.0], [0.0, 0.0, 0.0], [0.0, 0.0, 100.0], [100.0, 0.0, 100.0], [100.0, 100.0, 100.0], [0.0, 100.0, 100.0], [0.0, 0.0, 100.0], [0.0, 0.0, 0.0], [100.0, 0.0, 0.0], [100.0, 0.0, 100.0], [0.0, 0.0, 100.0], [0.0, 0.0, 0.0], [100.0, 0.0, 0.0], [100.0, 100.0, 0.0], [100.0, 100.0, 100.0], [100.0, 0.0, 100.0], [100.0, 0.0, 0.0], [100.0, 100.0, 0.0], [0.0, 100.0, 0.0], [0.0, 100.0, 100.0], [100.0, 100.0, 100.0], [100.0, 100.0, 0.0], [0.0, 100.0, 0.0], [0.0, 0.0, 0.0], [0.0, 0.0, 100.0], [0.0, 100.0, 100.0], [0.0, 100.0, 0.0], [100.0, 0.0, 0.0], [100.0, 100.0, 0.0], [200.0, 100.0, 0.0], [200.0, 0.0, 0.0], [100.0, 0.0, 0.0], [100.0, 0.0, 100.0], [200.0, 0.0, 100.0], [200.0, 100.0, 100.0], [100.0, 100.0, 100.0], [100.0, 0.0, 100.0], [100.0, 0.0, 0.0], [200.0, 0.0, 0.0], [200.0, 0.0, 100.0], [100.0, 0.0, 100.0], [100.0, 0.0, 0.0], [200.0, 0.0, 0.0], [200.0, 100.0, 0.0], [200.0, 100.0, 100.0], [200.0, 0.0, 100.0], [200.0, 0.0, 0.0], [200.0, 100.0, 0.0], [100.0, 100.0, 0.0], [100.0, 100.0, 100.0], [200.0, 100.0, 100.0], [200.0, 100.0, 0.0], [100.0, 100.0, 0.0], [100.0, 0.0, 0.0], [100.0, 0.0, 100.0], [100.0, 100.0, 100.0], [100.0, 100.0, 0.0]]\n"
     ]
    }
   ],
   "source": [
    "mesh_vertices=j['vertices']\n",
    "print(len(mesh_vertices))\n",
    "print(mesh_vertices)"
   ]
  },
  {
   "cell_type": "markdown",
   "metadata": {},
   "source": [
    "## Get the Mesh faces"
   ]
  },
  {
   "cell_type": "code",
   "execution_count": 650,
   "metadata": {},
   "outputs": [
    {
     "name": "stdout",
     "output_type": "stream",
     "text": [
      "[[2, 3, 4, 5, 6], [7, 8, 9, 10, 11], [12, 13, 14, 15, 16], [17, 18, 19, 20, 21], [22, 23, 24, 25, 26], [27, 28, 29, 30, 31], [32, 33, 34, 35, 36], [37, 38, 39, 40, 41], [42, 43, 44, 45, 46], [47, 48, 49, 50, 51], [52, 53, 54, 55, 56], [57, 58, 59, 60, 61]]\n"
     ]
    }
   ],
   "source": [
    "def get_mesh_faces(jsonfile):\n",
    "    cellspaces = []\n",
    "    cell_faces = []\n",
    "\n",
    "    for i in jsonfile['PrimalSpaceFeatures']['CellSpace']:\n",
    "        cellspaces.append(i)\n",
    "    for cs in cellspaces:\n",
    "        cell_face = j['PrimalSpaceFeatures']['CellSpace'][cs]['geometry']['boundaries']\n",
    "        \n",
    "        cell_faces.append(cell_face)\n",
    "    mesh_faces = [i for sl1 in cell_faces for sl2 in sl1 for sl3 in sl2 for i in sl3]\n",
    "    return mesh_faces\n",
    "\n",
    "mesh_faces = get_mesh_faces(j)\n",
    "print(mesh_faces)\n",
    "\n",
    "\n"
   ]
  },
  {
   "cell_type": "markdown",
   "metadata": {},
   "source": [
    "## Create the Mesh geometry"
   ]
  },
  {
   "cell_type": "code",
   "execution_count": 651,
   "metadata": {},
   "outputs": [
    {
     "name": "stdout",
     "output_type": "stream",
     "text": [
      "Mesh summary\n",
      "============\n",
      "- vertices: 62\n",
      "- edges: 60\n",
      "- faces: 12\n"
     ]
    }
   ],
   "source": [
    "mesh = Mesh.from_vertices_and_faces(mesh_vertices,mesh_faces)\n",
    "print(mesh.summary())"
   ]
  },
  {
   "cell_type": "markdown",
   "metadata": {},
   "source": [
    "## Visualize the Mesh geometry"
   ]
  },
  {
   "cell_type": "code",
   "execution_count": 652,
   "metadata": {},
   "outputs": [
    {
     "data": {
      "image/png": "[encoded data removed]",
      "text/plain": [
       "<Figure size 800x500 with 1 Axes>"
      ]
     },
     "metadata": {},
     "output_type": "display_data"
    }
   ],
   "source": [
    "plotter_surface = Plotter()\n",
    "plotter_surface.add(mesh)\n",
    "plotter_surface.zoom_extents()\n",
    "plotter_surface.show()"
   ]
  },
  {
   "cell_type": "markdown",
   "metadata": {},
   "source": [
    "# Get the graph"
   ]
  },
  {
   "cell_type": "markdown",
   "metadata": {},
   "source": [
    "## Get the nodes"
   ]
  },
  {
   "cell_type": "code",
   "execution_count": 653,
   "metadata": {},
   "outputs": [
    {
     "name": "stdout",
     "output_type": "stream",
     "text": [
      "14\n"
     ]
    }
   ],
   "source": [
    "fin_2 = open('C:/Users/SID-DRW/OneDrive - Delft University of Technology/Documents/GitHub/HDSS_test/data/out.json')\n",
    "j_2 = json.loads(fin_2.read())\n",
    "print(len(j_2['PrimalSpaceFeatures']['CellSpace']))"
   ]
  },
  {
   "cell_type": "code",
   "execution_count": 654,
   "metadata": {},
   "outputs": [
    {
     "name": "stdout",
     "output_type": "stream",
     "text": [
      "[0, 1]\n",
      "[0, 2, 8, 10, 12, 14, 16, 21, 23, 27, 30, 32, 36, 38]\n"
     ]
    }
   ],
   "source": [
    "def get_nodes_from_jsonfile(jfile):\n",
    "    \n",
    "    node_names = []\n",
    "    nodes = []\n",
    "    for spacelayer in jfile['SpaceLayers']:\n",
    "\n",
    "        for i in jfile['SpaceLayers'][spacelayer]:\n",
    "            node_names.append(i)\n",
    "            for nd in node_names:\n",
    "                node_id = jfile['SpaceLayers'][spacelayer][nd]['geometry']['boundaries']\n",
    "            nodes.append(node_id)\n",
    "\n",
    "    return nodes\n",
    "    \n",
    "nodes_1 = get_nodes_from_jsonfile(j)\n",
    "nodes_2 = get_nodes_from_jsonfile(j_2)\n",
    "print(nodes_1)\n",
    "print(nodes_2)\n"
   ]
  },
  {
   "cell_type": "markdown",
   "metadata": {},
   "source": [
    "## Get the edges"
   ]
  },
  {
   "cell_type": "code",
   "execution_count": 655,
   "metadata": {},
   "outputs": [
    {
     "name": "stdout",
     "output_type": "stream",
     "text": [
      "{'C1': 0, 'C3': 2, 'C4': 8, 'C6': 10, 'C8': 12, 'C10': 14, 'C12': 16, 'C13': 21, 'C15': 23, 'C19': 27, 'C21': 30, 'C23': 32, 'C25': 36, 'C26': 38}\n"
     ]
    }
   ],
   "source": [
    "def get_cell_node_pairs(jfile):\n",
    "    nodes = get_nodes_from_jsonfile(jfile)\n",
    "    node_names = []\n",
    "    for sl in jfile['SpaceLayers']:\n",
    "        for i in jfile['SpaceLayers'][sl]:\n",
    "            node_names.append(i)\n",
    "    cell_space_list = []\n",
    "    for cell in jfile['PrimalSpaceFeatures']['CellSpace']:\n",
    "        cell_space_list.append(cell)\n",
    "\n",
    "    cell_node_pairs = dict(zip(cell_space_list,nodes))\n",
    "    return cell_node_pairs\n",
    "\n",
    "cn_pair = get_cell_node_pairs(j_2)\n",
    "print(cn_pair)\n",
    "    "
   ]
  },
  {
   "cell_type": "code",
   "execution_count": 656,
   "metadata": {},
   "outputs": [],
   "source": [
    "def are_cells_adjacent(a, b, j):\n",
    "    if a not in j['PrimalSpaceFeatures']['CellSpace']:\n",
    "        return False\n",
    "    if b not in j['PrimalSpaceFeatures']['CellSpace']:\n",
    "        return False\n",
    "    ca = j['PrimalSpaceFeatures']['CellSpace'][a]\n",
    "    cb = j['PrimalSpaceFeatures']['CellSpace'][b]\n",
    "    # find the dual node\n",
    "    dual_ca = j['SpaceLayers'][ca['duality-spacelayer']][ca['duality']]\n",
    "    dual_cb = j['SpaceLayers'][cb['duality-spacelayer']][cb['duality']]\n",
    "    bFound = False\n",
    "    # iterate over the edges to see whether b is in a\n",
    "    for e in dual_ca['edges']:\n",
    "        if (e['destination'] == cb['duality']):\n",
    "            bFound = True\n",
    "            break\n",
    "    if (bFound == False):\n",
    "        # iterate over the edges to see whether a is in b\n",
    "        for e in dual_cb['edges']:\n",
    "            if (e['destination'] == ca['duality']):\n",
    "                bFound = True\n",
    "                break\n",
    "    return bFound"
   ]
  },
  {
   "cell_type": "code",
   "execution_count": 657,
   "metadata": {},
   "outputs": [
    {
     "data": {
      "text/plain": [
       "'cell_list = list(cn_pair.keys())\\ncell_pairs = []\\nchecks = []\\nfor i in range(len(cn_pair)):\\n    for j in range(i+1, len(cn_pair)):\\n        cell_pairs.append([cell_list[i],cell_list[j]])\\n        check = are_cells_adjacent(cell_list[i],cell_list[j],j_2)\\n        checks.append(check)\\nprint(cell_pairs)\\nprint(checks)'"
      ]
     },
     "execution_count": 657,
     "metadata": {},
     "output_type": "execute_result"
    }
   ],
   "source": [
    "'''cell_list = list(cn_pair.keys())\n",
    "cell_pairs = []\n",
    "checks = []\n",
    "for i in range(len(cn_pair)):\n",
    "    for j in range(i+1, len(cn_pair)):\n",
    "        cell_pairs.append([cell_list[i],cell_list[j]])\n",
    "        check = are_cells_adjacent(cell_list[i],cell_list[j],j_2)\n",
    "        checks.append(check)\n",
    "print(cell_pairs)\n",
    "print(checks)'''\n",
    "        "
   ]
  },
  {
   "cell_type": "code",
   "execution_count": 658,
   "metadata": {},
   "outputs": [
    {
     "name": "stdout",
     "output_type": "stream",
     "text": [
      "[['C1', 'C3'], ['C3', 'C4'], ['C3', 'C6'], ['C3', 'C8'], ['C3', 'C10'], ['C3', 'C12'], ['C12', 'C13'], ['C12', 'C15'], ['C12', 'C19'], ['C12', 'C23'], ['C15', 'C19'], ['C21', 'C23'], ['C23', 'C25'], ['C23', 'C26']]\n"
     ]
    }
   ],
   "source": [
    "# get the adjacent cell pairs\n",
    "def get_adjacent_cells(cn_pair,jfile):\n",
    "\n",
    "    cell_list = list(cn_pair.keys())\n",
    "    cell_pairs = []\n",
    "\n",
    "    adjacent_cells = []\n",
    "    for i in range(len(cn_pair)):\n",
    "        for j in range(i+1, len(cn_pair)):\n",
    "            cell_pair = [cell_list[i],cell_list[j]]\n",
    "            cell_pairs.append(cell_pair)\n",
    "            check = are_cells_adjacent(cell_list[i],cell_list[j],jfile)\n",
    "            if check == True:\n",
    "                adjacent_cells.append(cell_pair)\n",
    "                    \n",
    "    return adjacent_cells\n",
    "\n",
    "adjacent_cells = get_adjacent_cells(cn_pair, j_2)\n",
    "print(adjacent_cells)\n"
   ]
  },
  {
   "cell_type": "code",
   "execution_count": 659,
   "metadata": {},
   "outputs": [
    {
     "name": "stdout",
     "output_type": "stream",
     "text": [
      "[['R1', 'R3'], ['R3', 'R4'], ['R3', 'R6'], ['R3', 'R8'], ['R3', 'R10'], ['R3', 'R12'], ['R12', 'R13'], ['R12', 'R15'], ['R12', 'R19'], ['R12', 'R23'], ['R15', 'R19'], ['R21', 'R23'], ['R23', 'R25'], ['R23', 'R26']]\n"
     ]
    }
   ],
   "source": [
    "# changing the adjacent cell pairs to node pairs\n",
    "def get_adjacent_nodes(adjacent_cells, jfile):\n",
    "\n",
    "    adjacent_nodes = []\n",
    "    for ad_cell in adjacent_cells:\n",
    "        \n",
    "        edge_start_node = jfile['PrimalSpaceFeatures']['CellSpace'][ad_cell[0]]['duality']\n",
    "        edge_end_node = jfile['PrimalSpaceFeatures']['CellSpace'][ad_cell[1]]['duality']\n",
    "        edge = [edge_start_node,edge_end_node]\n",
    "        adjacent_nodes.append(edge)\n",
    "\n",
    "    return adjacent_nodes\n",
    "\n",
    "adjacent_nodes = get_adjacent_nodes(adjacent_cells,j_2)\n",
    "print(adjacent_nodes)\n"
   ]
  },
  {
   "cell_type": "code",
   "execution_count": 660,
   "metadata": {},
   "outputs": [
    {
     "name": "stdout",
     "output_type": "stream",
     "text": [
      "[[0, 2], [2, 8], [2, 10], [2, 12], [2, 14], [2, 16], [16, 21], [16, 23], [16, 27], [16, 32], [23, 27], [30, 32], [32, 36], [32, 38]]\n"
     ]
    }
   ],
   "source": [
    "# convert the node pairs to edges\n",
    "def get_edges(adjacent_nodes, jfile):\n",
    "\n",
    "    edges = []\n",
    "    for sl in jfile['SpaceLayers']:\n",
    "        for ad_node in adjacent_nodes:\n",
    "            edge_start = jfile['SpaceLayers'][sl][ad_node[0]]['geometry']['boundaries']\n",
    "            edge_end = jfile['SpaceLayers'][sl][ad_node[1]]['geometry']['boundaries']\n",
    "            edges.append([edge_start,edge_end])\n",
    "\n",
    "    return edges\n",
    "edges_2 = get_edges(adjacent_nodes, j_2)\n",
    "print(edges_2)"
   ]
  },
  {
   "cell_type": "markdown",
   "metadata": {},
   "source": [
    "## Create the NetworkX Graph"
   ]
  },
  {
   "cell_type": "markdown",
   "metadata": {},
   "source": [
    "## get node coordinates"
   ]
  },
  {
   "cell_type": "code",
   "execution_count": 661,
   "metadata": {},
   "outputs": [
    {
     "name": "stdout",
     "output_type": "stream",
     "text": [
      "{0: [445536.499779417, 5444906.24858758, -2.02], 2: [445538.543473167, 5444902.27372664, -2.02], 8: [445537.530360026, 5444900.32919035, -2.02], 10: [445538.001981661, 5444898.38465406, -2.02], 12: [445539.940870603, 5444906.62033717, -2.02], 14: [445541.320800571, 5444901.07268952, -2.02], 16: [445538.526005699, 5444902.30232276, 0.66], 21: [445537.949579257, 5444898.47044243, 0.66], 23: [445539.871000732, 5444907.64979755, 0.66], 27: [445541.460540315, 5444900.30059423, 0.66], 30: [445537.477957622, 5444906.82051002, 3.44], 32: [445538.526005699, 5444902.33091888, 3.44], 36: [445538.456135828, 5444898.87078813, 3.44], 38: [445541.495475251, 5444900.30059423, 3.44]}\n"
     ]
    }
   ],
   "source": [
    "def get_node_coords(nodes, jfile):\n",
    "\n",
    "    node_coords = {}\n",
    "    for i in nodes:\n",
    "        coord = jfile['vertices'][i]\n",
    "        node_coords[i] = coord\n",
    "\n",
    "    return node_coords\n",
    "\n",
    "node_coords_2 = get_node_coords(nodes_2, j_2)\n",
    "print(node_coords_2)\n",
    "    "
   ]
  },
  {
   "cell_type": "markdown",
   "metadata": {},
   "source": [
    "## Get the Graph with node coordinates"
   ]
  },
  {
   "cell_type": "code",
   "execution_count": 662,
   "metadata": {},
   "outputs": [
    {
     "name": "stdout",
     "output_type": "stream",
     "text": [
      "(0, {'coords': [445536.499779417, 5444906.24858758, -2.02]})\n",
      "(2, {'coords': [445538.543473167, 5444902.27372664, -2.02]})\n",
      "(8, {'coords': [445537.530360026, 5444900.32919035, -2.02]})\n",
      "(10, {'coords': [445538.001981661, 5444898.38465406, -2.02]})\n",
      "(12, {'coords': [445539.940870603, 5444906.62033717, -2.02]})\n",
      "(14, {'coords': [445541.320800571, 5444901.07268952, -2.02]})\n",
      "(16, {'coords': [445538.526005699, 5444902.30232276, 0.66]})\n",
      "(21, {'coords': [445537.949579257, 5444898.47044243, 0.66]})\n",
      "(23, {'coords': [445539.871000732, 5444907.64979755, 0.66]})\n",
      "(27, {'coords': [445541.460540315, 5444900.30059423, 0.66]})\n",
      "(30, {'coords': [445537.477957622, 5444906.82051002, 3.44]})\n",
      "(32, {'coords': [445538.526005699, 5444902.33091888, 3.44]})\n",
      "(36, {'coords': [445538.456135828, 5444898.87078813, 3.44]})\n",
      "(38, {'coords': [445541.495475251, 5444900.30059423, 3.44]})\n"
     ]
    }
   ],
   "source": [
    "G = nx.Graph()\n",
    "G.add_nodes_from(nodes_2)\n",
    "G.add_edges_from(edges_2)\n",
    "nx.set_node_attributes(G, node_coords_2, 'coords')\n",
    "for node in G.nodes(data=True):\n",
    "    print(node)"
   ]
  },
  {
   "cell_type": "markdown",
   "metadata": {},
   "source": [
    "## Visualize the Graph"
   ]
  },
  {
   "cell_type": "code",
   "execution_count": 663,
   "metadata": {},
   "outputs": [
    {
     "data": {
      "image/png": "[encoded data removed]",
      "text/plain": [
       "<Figure size 640x480 with 1 Axes>"
      ]
     },
     "metadata": {},
     "output_type": "display_data"
    }
   ],
   "source": [
    "fig = plt.figure()\n",
    "ax = fig.add_subplot(111, projection='3d')\n",
    "\n",
    "pos = nx.get_node_attributes(G,'coords')\n",
    "for node, [x,y,z] in pos.items():\n",
    "    ax.scatter(x,y,z, marker='o')\n",
    "    ax.text(x,y,z,node)\n",
    "for edge in G.edges():\n",
    "    xs, ys,zs = zip(*(pos[node] for node in edge))\n",
    "    ax.plot(xs,ys,zs,'b-',alpha=0.7)\n",
    "\n",
    "plt.show()"
   ]
  }
 ],
 "metadata": {
  "kernelspec": {
   "display_name": "HDSS",
   "language": "python",
   "name": "python3"
  },
  "language_info": {
   "codemirror_mode": {
    "name": "ipython",
    "version": 3
   },
   "file_extension": ".py",
   "mimetype": "text/x-python",
   "name": "python",
   "nbconvert_exporter": "python",
   "pygments_lexer": "ipython3",
   "version": "3.11.5"
  }
 },
 "nbformat": 4,
 "nbformat_minor": 2
}
