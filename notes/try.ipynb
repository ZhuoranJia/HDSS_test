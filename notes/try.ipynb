{
 "cells": [
  {
   "cell_type": "code",
   "execution_count": 11,
   "metadata": {},
   "outputs": [
    {
     "name": "stdout",
     "output_type": "stream",
     "text": [
      "IndoorJSON version: 0.2\n",
      "Number CellSpace: 14\n",
      "Number dual graphs (SpaceLayers): 1\n",
      "C1 and C3 adjacent? True\n",
      "C12 and C15 adjacent? True\n",
      "C1 and C9 adjacent? False\n",
      "Dual of R10: C10\n"
     ]
    }
   ],
   "source": [
    "import os\n",
    "import sys\n",
    "import json\n",
    "\n",
    "fin = open('C:/Users/SID-DRW/OneDrive - Delft University of Technology/Documents/GitHub/HDSS_test/data/out.json')\n",
    "\n",
    "def main():\n",
    "    j = json.loads(fin.read())\n",
    "\n",
    "    print (\"IndoorJSON version:\", j['version'])\n",
    "    print (\"Number CellSpace:\", len(j['PrimalSpaceFeatures']['CellSpace']))\n",
    "    print (\"Number dual graphs (SpaceLayers):\", len(j['SpaceLayers']))\n",
    "\n",
    "    #-- are Cell C1 and C8 adjacent? [either edge C1->C8 or C8->C1]\n",
    "    print (\"C1 and C3 adjacent?\", are_cells_adjacent('C1', 'C3', j))\n",
    "    #-- are Cell C1 and C8 adjacent? \n",
    "    print (\"C12 and C15 adjacent?\", are_cells_adjacent('C12', 'C15', j))\n",
    "    #-- are Cell C1 and C9 adjacent? \n",
    "    print (\"C1 and C9 adjacent?\", are_cells_adjacent('C1', 'C9', j))\n",
    "\n",
    "\n",
    "    #-- what is the dual of Node R10?\n",
    "    dual_r10 = None\n",
    "    for graphid in j['SpaceLayers']:\n",
    "        if ('R10' in j['SpaceLayers'][graphid]):\n",
    "            dual_r10 = j['SpaceLayers'][graphid]['R10']['duality']\n",
    "    print ('Dual of R10:', str(dual_r10)) \n",
    "\n",
    "\n",
    "def are_cells_adjacent(a, b, j):\n",
    "    if a not in j['PrimalSpaceFeatures']['CellSpace']:\n",
    "        return False\n",
    "    if b not in j['PrimalSpaceFeatures']['CellSpace']:\n",
    "        return False\n",
    "    ca = j['PrimalSpaceFeatures']['CellSpace'][a]\n",
    "    cb = j['PrimalSpaceFeatures']['CellSpace'][b]\n",
    "    # find the dual node\n",
    "    dual_ca = j['SpaceLayers'][ca['duality-spacelayer']][ca['duality']]\n",
    "    dual_cb = j['SpaceLayers'][cb['duality-spacelayer']][cb['duality']]\n",
    "    bFound = False\n",
    "    # iterate over the edges to see whether b is in a\n",
    "    for e in dual_ca['edges']:\n",
    "        if (e['destination'] == cb['duality']):\n",
    "            bFound = True\n",
    "            break\n",
    "    if (bFound == False):\n",
    "        # iterate over the edges to see whether a is in b\n",
    "        for e in dual_cb['edges']:\n",
    "            if (e['destination'] == ca['duality']):\n",
    "                bFound = True\n",
    "                break\n",
    "    return bFound\n",
    "\n",
    "\n",
    "if __name__ == '__main__':\n",
    "    main()"
   ]
  }
 ],
 "metadata": {
  "kernelspec": {
   "display_name": "HDSS",
   "language": "python",
   "name": "python3"
  },
  "language_info": {
   "codemirror_mode": {
    "name": "ipython",
    "version": 3
   },
   "file_extension": ".py",
   "mimetype": "text/x-python",
   "name": "python",
   "nbconvert_exporter": "python",
   "pygments_lexer": "ipython3",
   "version": "3.11.5"
  }
 },
 "nbformat": 4,
 "nbformat_minor": 2
}
