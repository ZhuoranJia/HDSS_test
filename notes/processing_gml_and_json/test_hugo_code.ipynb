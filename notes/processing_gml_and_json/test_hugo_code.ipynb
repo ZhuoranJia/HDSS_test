{
 "cells": [
  {
   "cell_type": "code",
   "execution_count": 9,
   "metadata": {},
   "outputs": [],
   "source": [
    "%matplotlib inline\n",
    "import numpy as np\n",
    "import compas\n",
    "from compas.datastructures import Mesh\n",
    "import compas.datastructures as ds\n",
    "from compas_plotters import Plotter\n",
    "import matplotlib.pyplot as plt\n",
    "import networkx as nx \n",
    "import json\n",
    "from pathlib import Path\n",
    "from mpl_toolkits.mplot3d import Axes3D"
   ]
  },
  {
   "cell_type": "code",
   "execution_count": 10,
   "metadata": {},
   "outputs": [],
   "source": [
    "fin = open('C:/Users/SID-DRW/OneDrive - Delft University of Technology/Documents/GitHub/HDSS_test/data/my_igml_703.json')\n",
    "j = json.loads(fin.read())\n",
    "\n",
    "fin_2 = open('C:/Users/SID-DRW/OneDrive - Delft University of Technology/Documents/GitHub/HDSS_test/data/out.json')\n",
    "j_2 = json.loads(fin_2.read())\n",
    "fin_3 = open('C:/Users/SID-DRW/OneDrive - Delft University of Technology/Documents/GitHub/HDSS_test/data/my_out.json')\n",
    "j_3 = json.loads(fin_3.read())\n",
    "\n",
    "fin_4 = open(\"C:/Users/SID-DRW/OneDrive - Delft University of Technology/Desktop/new_boundaries_0204/hugo_test/Newtest_output.json\")\n",
    "j_4 = json.loads(fin_4.read())"
   ]
  },
  {
   "cell_type": "code",
   "execution_count": 11,
   "metadata": {},
   "outputs": [
    {
     "name": "stdout",
     "output_type": "stream",
     "text": [
      "False\n"
     ]
    }
   ],
   "source": [
    "def are_cells_adjacent(a, b, j):\n",
    "    if a not in j['PrimalSpaceFeatures']['CellSpace']:\n",
    "        return False\n",
    "    if b not in j['PrimalSpaceFeatures']['CellSpace']:\n",
    "        return False\n",
    "    ca = j['PrimalSpaceFeatures']['CellSpace'][a]\n",
    "    cb = j['PrimalSpaceFeatures']['CellSpace'][b]\n",
    "    # find the dual node\n",
    "    dual_ca = j['SpaceLayers'][ca['duality-spacelayer']][ca['duality']]\n",
    "    dual_cb = j['SpaceLayers'][cb['duality-spacelayer']][cb['duality']]\n",
    "    bFound = False\n",
    "    # iterate over the edges to see whether b is in a\n",
    "    for e in dual_ca['edges']:\n",
    "        if (e['destination'] == cb['duality']):\n",
    "            bFound = True\n",
    "            break\n",
    "    if (bFound == False):\n",
    "        # iterate over the edges to see whether a is in b\n",
    "        for e in dual_cb['edges']:\n",
    "            if (e['destination'] == ca['duality']):\n",
    "                bFound = True\n",
    "                break\n",
    "    return bFound\n",
    "\n",
    "out = are_cells_adjacent('C1','C2',j_3)\n",
    "print(out)"
   ]
  },
  {
   "cell_type": "code",
   "execution_count": 12,
   "metadata": {},
   "outputs": [
    {
     "name": "stdout",
     "output_type": "stream",
     "text": [
      "IndoorJSON version: 0.2\n",
      "Number CellSpace: 2\n",
      "Number dual graphs (SpaceLayers): 1\n",
      "C1 and C2 adjacent? False\n",
      "C1 and C3 adjacent? False\n",
      "C1 and C9 adjacent? False\n",
      "Dual of R10: None\n"
     ]
    }
   ],
   "source": [
    "\n",
    "import os\n",
    "import sys\n",
    "import json\n",
    "\n",
    "fin = open('C:/Users/SID-DRW/OneDrive - Delft University of Technology/Documents/GitHub/HDSS_test/data/my_igml_703.json')\n",
    "\n",
    "def main():\n",
    "    j = json.loads(fin.read())\n",
    "\n",
    "    print (\"IndoorJSON version:\", j['version'])\n",
    "    print (\"Number CellSpace:\", len(j['PrimalSpaceFeatures']))\n",
    "    print (\"Number dual graphs (SpaceLayers):\", len(j['SpaceLayers']))\n",
    "\n",
    "    #-- are Cell C1 and C8 adjacent? [either edge C1->C8 or C8->C1]\n",
    "    print (\"C1 and C2 adjacent?\", are_cells_adjacent('C1', 'C2', j))\n",
    "    #-- are Cell C1 and C8 adjacent? \n",
    "    print (\"C1 and C3 adjacent?\", are_cells_adjacent('C1', 'C3', j))\n",
    "    #-- are Cell C1 and C9 adjacent? \n",
    "    print (\"C1 and C9 adjacent?\", are_cells_adjacent('C1', 'C9', j))\n",
    "\n",
    "\n",
    "    #-- what is the dual of Node R10?\n",
    "    dual_r10 = None\n",
    "    for graphid in j['SpaceLayers']:\n",
    "        if ('R10' in j['SpaceLayers'][graphid]):\n",
    "            dual_r10 = j['SpaceLayers'][graphid]['R10']['duality']\n",
    "    print ('Dual of R10:', str(dual_r10))\n",
    "\n",
    "\n",
    "def are_cells_adjacent(a, b, j):\n",
    "    if a not in j['PrimalSpaceFeatures']:\n",
    "        return False\n",
    "    if b not in j['PrimalSpaceFeatures']:\n",
    "        return False\n",
    "    ca = j['PrimalSpaceFeatures'][a]\n",
    "    cb = j['PrimalSpaceFeatures'][b]\n",
    "    # find the dual node\n",
    "    dual_ca = j['SpaceLayers'][ca['duality-spacelayer']][ca['duality']]\n",
    "    dual_cb = j['SpaceLayers'][cb['duality-spacelayer']][cb['duality']]\n",
    "    bFound = False\n",
    "    # iterate over the edges to see whether b is in a\n",
    "    for e in dual_ca['edges']:\n",
    "        if (e['destination'] == cb['duality']):\n",
    "            bFound = True\n",
    "            break\n",
    "    if (bFound == False):\n",
    "        # iterate over the edges to see whether a is in b\n",
    "        for e in dual_cb['edges']:\n",
    "            if (e['destination'] == ca['duality']):\n",
    "                bFound = True\n",
    "                break\n",
    "    return bFound\n",
    "\n",
    "\n",
    "if __name__ == '__main__':\n",
    "    main()"
   ]
  },
  {
   "cell_type": "code",
   "execution_count": 13,
   "metadata": {},
   "outputs": [
    {
     "name": "stdout",
     "output_type": "stream",
     "text": [
      "[[0, 2], [2, 1]]\n"
     ]
    }
   ],
   "source": [
    "indoor_json = {\n",
    "    \"SpaceLayers\": {\n",
    "        \"SLs_40\": {\n",
    "            \"N1\": {\n",
    "                \"type\": \"Node\",\n",
    "                \"duality\": \"C1\",\n",
    "                \"geometry\": {\"type\": \"Point\", \"boundaries\": 20},\n",
    "                \"edges\": [{\"type\": \"Edge\", \"destination\": \"SD1\", \"weight\": 1.0, \"extra_nodes\": None}]\n",
    "            },\n",
    "            \"N2\": {\n",
    "                \"type\": \"Node\",\n",
    "                \"duality\": \"C2\",\n",
    "                \"geometry\": {\"type\": \"Point\", \"boundaries\": 25},\n",
    "                \"edges\": []\n",
    "            },\n",
    "            \"SD1\": {\n",
    "                \"type\": \"Node\",\n",
    "                \"duality\": \"B1\",\n",
    "                \"geometry\": {\"type\": \"Point\", \"boundaries\": 7},\n",
    "                \"edges\": [{\"type\": \"Edge\", \"destination\": \"N2\", \"weight\": 1.0, \"extra_nodes\": None}]\n",
    "            }\n",
    "        }\n",
    "    }\n",
    "}\n",
    "\n",
    "# Extracting edges from the JSON structure\n",
    "edges = []\n",
    "node_keys = list(indoor_json[\"SpaceLayers\"][\"SLs_40\"].keys())\n",
    "for node_key, node_value in indoor_json[\"SpaceLayers\"][\"SLs_40\"].items():\n",
    "    for edge in node_value.get(\"edges\", []):\n",
    "        source_index = node_keys.index(node_key)\n",
    "        destination_index = node_keys.index(edge[\"destination\"])\n",
    "        edges.append([source_index, destination_index])\n",
    "\n",
    "print(edges)\n"
   ]
  },
  {
   "cell_type": "code",
   "execution_count": 14,
   "metadata": {},
   "outputs": [
    {
     "name": "stdout",
     "output_type": "stream",
     "text": [
      "[[0, 1]]\n",
      "[[0, 2], [2, 1]]\n",
      "[[0, 2], [2, 0], [2, 8], [2, 10], [2, 12], [2, 14], [2, 16], [8, 2], [10, 2], [12, 2], [14, 2], [16, 2], [16, 23], [16, 23], [16, 21], [16, 27], [16, 32], [21, 16], [23, 16], [23, 16], [23, 27], [27, 16], [27, 23], [30, 32], [32, 16], [32, 30], [32, 36], [32, 38], [36, 32], [38, 32]]\n",
      "30\n"
     ]
    }
   ],
   "source": [
    "'''def get_edges(j):\n",
    "\n",
    "    for sl in j['SpaceLayers']:\n",
    "        edges = []\n",
    "        node_keys = list(j[\"SpaceLayers\"][sl].keys())\n",
    "        for node_key, node_value in j[\"SpaceLayers\"][sl].items():\n",
    "            for edge in node_value.get(\"edges\", []):\n",
    "                source_index = node_keys.index(node_key)\n",
    "                destination_index = node_keys.index(edge[\"destination\"])\n",
    "                edges.append([source_index, destination_index])\n",
    "\n",
    "    return edges'''\n",
    "\n",
    "def get_edges(j):\n",
    "    for sl in j['SpaceLayers']:\n",
    "\n",
    "        edges_modified = []\n",
    "        for node_key, node_value in j[\"SpaceLayers\"][sl].items():\n",
    "            source_boundary = node_value[\"geometry\"][\"boundaries\"]\n",
    "            for edge in node_value.get(\"edges\", []):\n",
    "                destination_node = j[\"SpaceLayers\"][sl][edge[\"destination\"]]\n",
    "                destination_boundary = destination_node[\"geometry\"][\"boundaries\"]\n",
    "                edges_modified.append([source_boundary, destination_boundary])\n",
    "\n",
    "    return edges_modified\n",
    "\n",
    "print(get_edges(j))\n",
    "print(get_edges(j_4))\n",
    "print(get_edges(j_2))\n",
    "print(len(get_edges(j_2)))\n"
   ]
  },
  {
   "cell_type": "code",
   "execution_count": 15,
   "metadata": {},
   "outputs": [
    {
     "data": {
      "text/plain": [
       "[[20, 7], [7, 25]]"
      ]
     },
     "execution_count": 15,
     "metadata": {},
     "output_type": "execute_result"
    }
   ],
   "source": [
    "# Modifying the code to output edges based on the \"boundaries\" key values instead of node indices\n",
    "\n",
    "edges_modified = []\n",
    "for node_key, node_value in indoor_json[\"SpaceLayers\"][\"SLs_40\"].items():\n",
    "    source_boundary = node_value[\"geometry\"][\"boundaries\"]\n",
    "    for edge in node_value.get(\"edges\", []):\n",
    "        destination_node = indoor_json[\"SpaceLayers\"][\"SLs_40\"][edge[\"destination\"]]\n",
    "        destination_boundary = destination_node[\"geometry\"][\"boundaries\"]\n",
    "        edges_modified.append([source_boundary, destination_boundary])\n",
    "\n",
    "edges_modified\n"
   ]
  }
 ],
 "metadata": {
  "kernelspec": {
   "display_name": "HDSS",
   "language": "python",
   "name": "python3"
  },
  "language_info": {
   "codemirror_mode": {
    "name": "ipython",
    "version": 3
   },
   "file_extension": ".py",
   "mimetype": "text/x-python",
   "name": "python",
   "nbconvert_exporter": "python",
   "pygments_lexer": "ipython3",
   "version": "3.11.5"
  }
 },
 "nbformat": 4,
 "nbformat_minor": 2
}
