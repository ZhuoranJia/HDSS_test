{
 "cells": [
  {
   "cell_type": "code",
   "execution_count": 6,
   "metadata": {},
   "outputs": [
    {
     "name": "stdout",
     "output_type": "stream",
     "text": [
      "[1, 2, 3, 4]\n"
     ]
    }
   ],
   "source": [
    "nested_list = [[[[1]],[[2]],[[3]],[[4]]]]\n",
    "nested_list_2 = [[[[5]],[[6]],[[7]],[[8]]]]\n",
    "new_list = []\n",
    "for l1 in nested_list:\n",
    "    for l2 in l1:\n",
    "        for l3 in l2:\n",
    "            for i in l3:\n",
    "                new_list.append(i)\n",
    "\n",
    "print(new_list)"
   ]
  },
  {
   "cell_type": "code",
   "execution_count": 7,
   "metadata": {},
   "outputs": [
    {
     "name": "stdout",
     "output_type": "stream",
     "text": [
      "[1, 2, 3, 4, 5, 6, 7, 8]\n"
     ]
    }
   ],
   "source": [
    "big_list = [nested_list,nested_list_2]\n",
    "newer_list = []\n",
    "for n_list in big_list:\n",
    "    for l1 in n_list:\n",
    "        for l2 in l1:\n",
    "            for l3 in l2:\n",
    "                for i in l3:\n",
    "                    newer_list.append(i)\n",
    "\n",
    "print(newer_list)"
   ]
  }
 ],
 "metadata": {
  "kernelspec": {
   "display_name": "HDSS",
   "language": "python",
   "name": "python3"
  },
  "language_info": {
   "codemirror_mode": {
    "name": "ipython",
    "version": 3
   },
   "file_extension": ".py",
   "mimetype": "text/x-python",
   "name": "python",
   "nbconvert_exporter": "python",
   "pygments_lexer": "ipython3",
   "version": "3.11.5"
  }
 },
 "nbformat": 4,
 "nbformat_minor": 2
}
