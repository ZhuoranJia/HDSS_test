{
 "cells": [
  {
   "cell_type": "code",
   "execution_count": 1,
   "metadata": {},
   "outputs": [
    {
     "name": "stdout",
     "output_type": "stream",
     "text": [
      "[[2, 'R1'], [2, 'R4'], [2, 'R6'], [2, 'R8'], [2, 'R10'], [2, 'R12']]\n"
     ]
    }
   ],
   "source": [
    "json_data = {\n",
    "    \"R3\": {\n",
    "        \"type\": \"Node\",\n",
    "        \"duality\": \"C3\",\n",
    "        \"geometry\": {\"type\": \"Point\", \"boundaries\": 2},\n",
    "        \"edges\": [\n",
    "            {\"type\": \"Edge\", \"destination\": \"R1\", \"weight\": 1.0, \"extra_nodes\": [3]},\n",
    "            {\"type\": \"Edge\", \"destination\": \"R4\", \"weight\": 1.0, \"extra_nodes\": [4]},\n",
    "            {\"type\": \"Edge\", \"destination\": \"R6\", \"weight\": 1.0, \"extra_nodes\": [5]},\n",
    "            {\"type\": \"Edge\", \"destination\": \"R8\", \"weight\": 1.0, \"extra_nodes\": [6]},\n",
    "            {\"type\": \"Edge\", \"destination\": \"R10\", \"weight\": 1.0, \"extra_nodes\": [7]},\n",
    "            {\"type\": \"Edge\", \"destination\": \"R12\", \"weight\": 1.0, \"extra_nodes\": None}]\n",
    "    }\n",
    "}\n",
    "\n",
    "# Extracting the information into the desired list format\n",
    "boundary_value = json_data[\"R3\"][\"geometry\"][\"boundaries\"]\n",
    "extracted_info = [[boundary_value, edge[\"destination\"]] for edge in json_data[\"R3\"][\"edges\"]]\n",
    "\n",
    "print(extracted_info)"
   ]
  }
 ],
 "metadata": {
  "kernelspec": {
   "display_name": "HDSS",
   "language": "python",
   "name": "python3"
  },
  "language_info": {
   "codemirror_mode": {
    "name": "ipython",
    "version": 3
   },
   "file_extension": ".py",
   "mimetype": "text/x-python",
   "name": "python",
   "nbconvert_exporter": "python",
   "pygments_lexer": "ipython3",
   "version": "3.11.5"
  }
 },
 "nbformat": 4,
 "nbformat_minor": 2
}
