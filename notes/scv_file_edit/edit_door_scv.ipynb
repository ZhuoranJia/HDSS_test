{
 "cells": [
  {
   "cell_type": "code",
   "execution_count": 9,
   "metadata": {},
   "outputs": [],
   "source": [
    "import pandas as pd\n",
    "import re"
   ]
  },
  {
   "cell_type": "code",
   "execution_count": 10,
   "metadata": {},
   "outputs": [],
   "source": [
    "def transform_data(original_file_path, transformed_file_path):\n",
    "    # Read the original data\n",
    "    original_data = pd.read_csv(original_file_path, header=None)\n",
    "\n",
    "    # Function to extract coordinates from the string\n",
    "    def extract_coordinates(point_str):\n",
    "        # Extract the numerical values using regular expression\n",
    "        nums = re.findall(r'-?\\d+\\.\\d+', point_str)\n",
    "        return ','.join(nums)\n",
    "\n",
    "    # Apply the function to transform data\n",
    "    transformed_data = original_data[0].apply(extract_coordinates)\n",
    "\n",
    "    # Save the transformed data to a new file\n",
    "    transformed_data.to_csv(transformed_file_path, index=False, header=False)"
   ]
  },
  {
   "cell_type": "code",
   "execution_count": 11,
   "metadata": {},
   "outputs": [],
   "source": [
    "original_file_path = \"C:/Users/SID-DRW/OneDrive - Delft University of Technology/Academic Research/PhD research meeting/year 2/Second_Paper/ifc_file/dynamo_data/doors_data/door_location.csv\"\n",
    "transformed_file_path = \"C:/Users/SID-DRW/OneDrive - Delft University of Technology/Academic Research/PhD research meeting/year 2/Second_Paper/ifc_file/dynamo_data/doors_data/door_location_edited.csv\""
   ]
  },
  {
   "cell_type": "code",
   "execution_count": 12,
   "metadata": {},
   "outputs": [],
   "source": [
    "transform_data(original_file_path, transformed_file_path)"
   ]
  }
 ],
 "metadata": {
  "kernelspec": {
   "display_name": "HDSS",
   "language": "python",
   "name": "python3"
  },
  "language_info": {
   "codemirror_mode": {
    "name": "ipython",
    "version": 3
   },
   "file_extension": ".py",
   "mimetype": "text/x-python",
   "name": "python",
   "nbconvert_exporter": "python",
   "pygments_lexer": "ipython3",
   "version": "3.11.5"
  }
 },
 "nbformat": 4,
 "nbformat_minor": 2
}
