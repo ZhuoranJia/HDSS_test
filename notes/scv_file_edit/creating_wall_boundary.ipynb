{
 "cells": [
  {
   "cell_type": "code",
   "execution_count": 1,
   "metadata": {},
   "outputs": [],
   "source": [
    "import csv"
   ]
  },
  {
   "cell_type": "code",
   "execution_count": 2,
   "metadata": {},
   "outputs": [
    {
     "name": "stdout",
     "output_type": "stream",
     "text": [
      "[['0,0,0', '2,0,0', '2,2,0', '0,2,0', '0,0,0'], ['2,0,0', '4,0,0', '4,2,0', '2,2,0', '2,0,0']]\n"
     ]
    }
   ],
   "source": [
    "lower_bound = csv.reader(open(\"C:/Users/SID-DRW/OneDrive - Delft University of Technology/Desktop/Book1_lower.csv\"))\n",
    "lower_lines = list(lower_bound)\n",
    "print(lower_lines)"
   ]
  },
  {
   "cell_type": "code",
   "execution_count": 3,
   "metadata": {},
   "outputs": [
    {
     "name": "stdout",
     "output_type": "stream",
     "text": [
      "[['0,0,2', '2,0,2', '2,2,2', '0,2,2', '0,0,2'], ['2,0,2', '4,0,2', '4,2,2', '2,2,2', '2,0,2']]\n"
     ]
    }
   ],
   "source": [
    "upper_bound = csv.reader(open(\"C:/Users/SID-DRW/OneDrive - Delft University of Technology/Desktop/Book2_upper.csv\"))\n",
    "upper_lines = list(upper_bound)\n",
    "print(upper_lines)"
   ]
  },
  {
   "cell_type": "code",
   "execution_count": 4,
   "metadata": {},
   "outputs": [
    {
     "name": "stdout",
     "output_type": "stream",
     "text": [
      "[['0,0,0', '2,0,0', '2,0,2', '0,0,2', '0,0,0', '2,0,0', '2,2,0', '2,2,2', '2,0,2', '2,0,0', '2,2,0', '0,2,0', '0,2,2', '2,2,2', '2,2,0', '0,2,0', '0,0,0', '0,0,2', '0,2,2', '0,2,0'], ['2,0,0', '4,0,0', '4,0,2', '2,0,2', '2,0,0', '4,0,0', '4,2,0', '4,2,2', '4,0,2', '4,0,0', '4,2,0', '2,2,0', '2,2,2', '4,2,2', '4,2,0', '2,2,0', '2,0,0', '2,0,2', '2,2,2', '2,2,0']]\n"
     ]
    }
   ],
   "source": [
    "wall_bound = csv.reader(open(\"C:/Users/SID-DRW/OneDrive - Delft University of Technology/Desktop/Book1_wall.csv\"))\n",
    "wall_lines = list(wall_bound)\n",
    "print(wall_lines)"
   ]
  },
  {
   "cell_type": "code",
   "execution_count": 5,
   "metadata": {},
   "outputs": [
    {
     "name": "stdout",
     "output_type": "stream",
     "text": [
      "[['0,0,0', '2,0,0', '0,0,0', '2,0,0', '2,2,0', '2,0,0', '2,2,0', '0,2,0', '2,2,0', '0,2,0', '0,0,0', '0,2,0'], ['2,0,0', '4,0,0', '2,0,0', '4,0,0', '4,2,0', '4,0,0', '4,2,0', '2,2,0', '4,2,0', '2,2,0', '2,0,0', '2,2,0']]\n"
     ]
    }
   ],
   "source": [
    "bigger_list = []\n",
    "for inner_list in lower_lines:\n",
    "    new_inner_list = []  # Initialize a new list for each inner_list\n",
    "    for pt in range(len(inner_list)-1):\n",
    "        new_inner_list.append(inner_list[pt])\n",
    "        new_inner_list.append(inner_list[pt+1])\n",
    "        new_inner_list.append(inner_list[pt])\n",
    "    bigger_list.append(new_inner_list)\n",
    "\n",
    "print(bigger_list)"
   ]
  },
  {
   "cell_type": "code",
   "execution_count": 6,
   "metadata": {},
   "outputs": [
    {
     "name": "stdout",
     "output_type": "stream",
     "text": [
      "[['0,0,0', '2,0,0', '0,0,0', '2,0,0', '2,2,0', '2,0,0', '2,2,0', '0,2,0', '2,2,0', '0,2,0', '0,0,0', '0,2,0'], ['2,0,0', '4,0,0', '2,0,0', '4,0,0', '4,2,0', '4,0,0', '4,2,0', '2,2,0', '4,2,0', '2,2,0', '2,0,0', '2,2,0']]\n",
      "28\n",
      "28\n"
     ]
    }
   ],
   "source": [
    "#根据下面的改这个\n",
    "\n",
    "bigger_list = []\n",
    "for inner_list in lower_lines:\n",
    "    new_inner_list = []  # Initialize a new list for each inner_list\n",
    "    for pt in range(len(inner_list)-1):\n",
    "        new_inner_list.append(inner_list[pt])\n",
    "        new_inner_list.append(inner_list[pt+1])\n",
    "        new_inner_list.append(inner_list[pt])\n",
    "    bigger_list.append(new_inner_list)\n",
    "\n",
    "print(bigger_list)\n",
    "\n",
    "for inner_bl in bigger_list:\n",
    "    i = 2\n",
    "    while i<len(inner_bl):\n",
    "        for inner_ul in upper_lines:\n",
    "            for pt in range((len(inner_ul)-1)):\n",
    "                inner_bl.insert(i, inner_ul[pt+1])\n",
    "                inner_bl.insert(i+1,inner_ul[pt])\n",
    "                i += 5\n",
    "print(len(bigger_list[0]))\n",
    "print(len(bigger_list[1]))                             "
   ]
  },
  {
   "cell_type": "code",
   "execution_count": 7,
   "metadata": {},
   "outputs": [
    {
     "name": "stdout",
     "output_type": "stream",
     "text": [
      "[['0,0,0', '2,0,0', '0,0,0', '2,0,0', '2,2,0', '2,0,0', '2,2,0', '0,2,0', '2,2,0', '0,2,0', '0,0,0', '0,2,0'], ['2,0,0', '4,0,0', '2,0,0', '4,0,0', '4,2,0', '4,0,0', '4,2,0', '2,2,0', '4,2,0', '2,2,0', '2,0,0', '2,2,0']]\n"
     ]
    }
   ],
   "source": [
    "def get_lower_bound_ready(lower_boundary):\n",
    "    bigger_list = []\n",
    "    for inner_list in lower_boundary:\n",
    "        new_inner_list = []  # Initialize a new list for each inner_list\n",
    "        for pt in range(len(inner_list)-1):\n",
    "            new_inner_list.append(inner_list[pt])\n",
    "            new_inner_list.append(inner_list[pt+1])\n",
    "            new_inner_list.append(inner_list[pt])\n",
    "        bigger_list.append(new_inner_list)\n",
    "\n",
    "    return bigger_list\n",
    "\n",
    "lower_boundary = get_lower_bound_ready(lower_lines)\n",
    "print(lower_boundary)"
   ]
  },
  {
   "cell_type": "code",
   "execution_count": 9,
   "metadata": {},
   "outputs": [
    {
     "name": "stdout",
     "output_type": "stream",
     "text": [
      "[['1', '2', 'b', 'a', '3', '4', '5', 'c', 'b', '6', '7', '8', 'd', 'c', '9', '10', '11', 'e', 'd', '12']]\n"
     ]
    }
   ],
   "source": [
    "l1 = [['1', '2', '3', '4', '5', '6', '7', '8', '9', '10', '11', '12']]\n",
    "l2 = [['a','b','c','d','e']]\n",
    "l3 = [['1','2','b','a','3','4','5','c','b','6','7','8','d','c','9','10','11','e','d','12']]\n",
    "\n",
    "for inner_l1 in l1:\n",
    "    i = 2  # First insertion after 2 elements\n",
    "    while i < len(inner_l1):\n",
    "        for inner_l2 in l2:\n",
    "            for letter in range((len(inner_l2)-1)):\n",
    "                inner_l1.insert(i, inner_l2[letter+1])\n",
    "                inner_l1.insert(i+1, inner_l2[letter])\n",
    "\n",
    "                i += 5  \n",
    "\n",
    "print(l1)\n"
   ]
  },
  {
   "cell_type": "code",
   "execution_count": 14,
   "metadata": {},
   "outputs": [
    {
     "name": "stdout",
     "output_type": "stream",
     "text": [
      "[['0,0,0', '2,0,0', '2,0,2', '0,0,2', '0,0,0', '2,0,0', '2,2,0', '2,2,2', '2,0,2', '2,0,0', '2,2,0', '0,2,0', '0,2,2', '2,2,2', '2,2,0', '0,2,0', '0,0,0', '0,0,2', '0,2,2', '0,2,0'], ['2,0,0', '4,0,0', '4,0,2', '2,0,2', '2,0,0', '4,0,0', '4,2,0', '4,2,2', '4,0,2', '4,0,0', '4,2,0', '2,2,0', '2,2,2', '4,2,2', '4,2,0', '2,2,0', '2,0,0', '2,0,2', '2,2,2', '2,2,0']]\n"
     ]
    }
   ],
   "source": [
    "l1 = [['0,0,0', '2,0,0', '0,0,0', '2,0,0', '2,2,0', '2,0,0', '2,2,0', '0,2,0', '2,2,0', '0,2,0', '0,0,0', '0,2,0'], \n",
    "      ['2,0,0', '4,0,0', '2,0,0', '4,0,0', '4,2,0', '4,0,0', '4,2,0', '2,2,0', '4,2,0', '2,2,0', '2,0,0', '2,2,0']]\n",
    "l2 = [['0,0,2', '2,0,2', '2,2,2', '0,2,2', '0,0,2'], \n",
    "      ['2,0,2', '4,0,2', '4,2,2', '2,2,2', '2,0,2']]\n",
    "\n",
    "# Adjusting the loop to pair each inner list in l1 with its corresponding list in l2\n",
    "for index, inner_l1 in enumerate(l1):\n",
    "    i = 2  # First insertion after 2 elements\n",
    "    inner_l2 = l2[index]  # Select the corresponding list from l2\n",
    "    while i < len(inner_l1):  # Check length before insertion\n",
    "        for letter in range(len(inner_l2)-1):\n",
    "              # Insert only if the length is less than 20\n",
    "                inner_l1.insert(i, inner_l2[letter+1])\n",
    "                inner_l1.insert(i+1, inner_l2[letter])\n",
    "                i += 5\n",
    "              # Stop insertion if inner list reaches 20 elements\n",
    "\n",
    "\n",
    "\n",
    "print(l1)"
   ]
  }
 ],
 "metadata": {
  "kernelspec": {
   "display_name": "HDSS",
   "language": "python",
   "name": "python3"
  },
  "language_info": {
   "codemirror_mode": {
    "name": "ipython",
    "version": 3
   },
   "file_extension": ".py",
   "mimetype": "text/x-python",
   "name": "python",
   "nbconvert_exporter": "python",
   "pygments_lexer": "ipython3",
   "version": "3.11.5"
  }
 },
 "nbformat": 4,
 "nbformat_minor": 2
}
