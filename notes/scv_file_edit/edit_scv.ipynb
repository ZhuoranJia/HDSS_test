{
 "cells": [
  {
   "cell_type": "code",
   "execution_count": 22,
   "metadata": {},
   "outputs": [],
   "source": [
    "import pandas as pd\n",
    "import re"
   ]
  },
  {
   "cell_type": "code",
   "execution_count": 23,
   "metadata": {},
   "outputs": [],
   "source": [
    "def parse_line_data(line_data):\n",
    "    \"\"\"\n",
    "    Parse the line data string to extract start and end point coordinates.\n",
    "    Example of line data:\n",
    "    'Line(StartPoint = Point(X = -52.147, Y = 49.887, Z = 0.000), EndPoint = Point(X = -52.147, Y = 47.768, Z = 0.000), ...)'\n",
    "    \"\"\"\n",
    "    pattern = r'Point\\(X = (.*?), Y = (.*?), Z = (.*?)\\)'\n",
    "    points = re.findall(pattern, line_data)\n",
    "    return [','.join(point) for point in points] if points else []"
   ]
  },
  {
   "cell_type": "code",
   "execution_count": 24,
   "metadata": {},
   "outputs": [],
   "source": [
    "def parse_line_data_safe(line_data):\n",
    "    \"\"\"\n",
    "    Safely parse the line data string to extract start and end point coordinates.\n",
    "    This function handles non-string or null inputs.\n",
    "    \"\"\"\n",
    "    if not isinstance(line_data, str):\n",
    "        return []\n",
    "    return parse_line_data(line_data)"
   ]
  },
  {
   "cell_type": "code",
   "execution_count": 25,
   "metadata": {},
   "outputs": [],
   "source": [
    "original_data_path = 'C:/Users/SID-DRW/OneDrive - Delft University of Technology/Academic Research/PhD research meeting/year 2/Second_Paper/ifc_file/dynamo_data/room _corridor_stair_lift_bouds/corridor_boundaries.csv'\n",
    "edited_data_path = 'C:/Users/SID-DRW/OneDrive - Delft University of Technology/Academic Research/PhD research meeting/year 2/Second_Paper/ifc_file/dynamo_data/room _corridor_stair_lift_bouds/edited_data/edited_corridor_boudaries.csv'"
   ]
  },
  {
   "cell_type": "code",
   "execution_count": 26,
   "metadata": {},
   "outputs": [],
   "source": [
    "original_data_path_2 = 'C:/Users/SID-DRW/OneDrive - Delft University of Technology/Academic Research/PhD research meeting/year 2/Second_Paper/ifc_file/dynamo_data/room _corridor_stair_lift_bouds/room_boundaries.csv'\n",
    "edited_data_path_2 = 'C:/Users/SID-DRW/OneDrive - Delft University of Technology/Academic Research/PhD research meeting/year 2/Second_Paper/ifc_file/dynamo_data/room _corridor_stair_lift_bouds/edited_data/edited_room_boudaries.csv'"
   ]
  },
  {
   "cell_type": "code",
   "execution_count": 27,
   "metadata": {},
   "outputs": [],
   "source": [
    "original_data_path_stair = 'C:/Users/SID-DRW/OneDrive - Delft University of Technology/Academic Research/PhD research meeting/year 2/Second_Paper/ifc_file/dynamo_data/room _corridor_stair_lift_bouds/stair_and_elevator_boundaries.csv'\n",
    "edited_data_path_stair = 'C:/Users/SID-DRW/OneDrive - Delft University of Technology/Academic Research/PhD research meeting/year 2/Second_Paper/ifc_file/dynamo_data/room _corridor_stair_lift_bouds/edited_data/edited_stair_lift_boudaries.csv'"
   ]
  },
  {
   "cell_type": "code",
   "execution_count": 28,
   "metadata": {},
   "outputs": [],
   "source": [
    "original_data = pd.read_csv(original_data_path, header=None)\n",
    "original_data_2 = pd.read_csv(original_data_path_2, header=None)\n",
    "original_data_stair = pd.read_csv(original_data_path_stair, header=None)"
   ]
  },
  {
   "cell_type": "code",
   "execution_count": 29,
   "metadata": {},
   "outputs": [
    {
     "name": "stderr",
     "output_type": "stream",
     "text": [
      "C:\\Users\\SID-DRW\\AppData\\Local\\Temp\\ipykernel_33736\\2029864994.py:1: FutureWarning: DataFrame.applymap has been deprecated. Use DataFrame.map instead.\n",
      "  edited_data_rows = original_data.applymap(parse_line_data_safe).apply(lambda row: [coord for sublist in row for coord in sublist], axis=1)\n",
      "C:\\Users\\SID-DRW\\AppData\\Local\\Temp\\ipykernel_33736\\2029864994.py:2: FutureWarning: DataFrame.applymap has been deprecated. Use DataFrame.map instead.\n",
      "  edited_data_rows_2 = original_data_2.applymap(parse_line_data_safe).apply(lambda row: [coord for sublist in row for coord in sublist], axis=1)\n",
      "C:\\Users\\SID-DRW\\AppData\\Local\\Temp\\ipykernel_33736\\2029864994.py:3: FutureWarning: DataFrame.applymap has been deprecated. Use DataFrame.map instead.\n",
      "  edited_data_rows_stair = original_data_stair.applymap(parse_line_data_safe).apply(lambda row: [coord for sublist in row for coord in sublist], axis=1)\n"
     ]
    }
   ],
   "source": [
    "edited_data_rows = original_data.applymap(parse_line_data_safe).apply(lambda row: [coord for sublist in row for coord in sublist], axis=1)\n",
    "edited_data_rows_2 = original_data_2.applymap(parse_line_data_safe).apply(lambda row: [coord for sublist in row for coord in sublist], axis=1)\n",
    "edited_data_rows_stair = original_data_stair.applymap(parse_line_data_safe).apply(lambda row: [coord for sublist in row for coord in sublist], axis=1)"
   ]
  },
  {
   "cell_type": "code",
   "execution_count": 30,
   "metadata": {},
   "outputs": [],
   "source": [
    "edited_data_df = pd.DataFrame(edited_data_rows.tolist())\n",
    "edited_data_df_2 = pd.DataFrame(edited_data_rows_2.tolist())\n",
    "edited_data_df_stair = pd.DataFrame(edited_data_rows_stair.tolist())"
   ]
  },
  {
   "cell_type": "code",
   "execution_count": 31,
   "metadata": {},
   "outputs": [],
   "source": [
    "edited_data_df.to_csv(edited_data_path, index=False, header=False)\n",
    "edited_data_df_2.to_csv(edited_data_path_2, index=False, header=False)\n",
    "edited_data_df_stair.to_csv(edited_data_path_stair, index=False, header=False)"
   ]
  }
 ],
 "metadata": {
  "kernelspec": {
   "display_name": "HDSS",
   "language": "python",
   "name": "python3"
  },
  "language_info": {
   "codemirror_mode": {
    "name": "ipython",
    "version": 3
   },
   "file_extension": ".py",
   "mimetype": "text/x-python",
   "name": "python",
   "nbconvert_exporter": "python",
   "pygments_lexer": "ipython3",
   "version": "3.11.5"
  }
 },
 "nbformat": 4,
 "nbformat_minor": 2
}
