{
 "cells": [
  {
   "cell_type": "code",
   "execution_count": 17,
   "metadata": {},
   "outputs": [],
   "source": [
    "import pandas as pd"
   ]
  },
  {
   "cell_type": "code",
   "execution_count": 18,
   "metadata": {},
   "outputs": [],
   "source": [
    "# Load the files\n",
    "file_path1 = \"C:/Users/SID-DRW/OneDrive - Delft University of Technology/Desktop/new_boundaries_0204/GH/state_data_processing/state_withou_title_plus_doorPoints.csv\"\n",
    "file_path2 = \"C:/Users/SID-DRW/OneDrive - Delft University of Technology/Desktop/new_boundaries_0204/GH/transition_data_processing/csv/ALL_STARTS_AND_ENDS.csv\"\n",
    "\n",
    "df1 = pd.read_csv(file_path1)\n",
    "df2 = pd.read_csv(file_path2)"
   ]
  },
  {
   "cell_type": "code",
   "execution_count": 19,
   "metadata": {},
   "outputs": [
    {
     "name": "stderr",
     "output_type": "stream",
     "text": [
      "C:\\Users\\SID-DRW\\AppData\\Local\\Temp\\ipykernel_23060\\795112236.py:28: FutureWarning: Setting an item of incompatible dtype is deprecated and will raise in a future error of pandas. Value 'S2' has dtype incompatible with float64, please explicitly cast to a compatible dtype first.\n",
      "  df2.loc[i, 'Unnamed: 2'] = point_to_identifier_dict[end_point]\n",
      "C:\\Users\\SID-DRW\\AppData\\Local\\Temp\\ipykernel_23060\\795112236.py:23: FutureWarning: Setting an item of incompatible dtype is deprecated and will raise in a future error of pandas. Value 'S51' has dtype incompatible with float64, please explicitly cast to a compatible dtype first.\n",
      "  df2.loc[i, 'Unnamed: 1'] = point_to_identifier_dict[start_point]\n"
     ]
    }
   ],
   "source": [
    "\n",
    "\n",
    "\n",
    "\n",
    "# Adjusting the approach based on the structure of the files\n",
    "df2_columns = df2.columns  # Get column names to reference them correctly\n",
    "start_column = df2_columns[-2]  # Second to last column for starting points\n",
    "end_column = df2_columns[-1]  # Last column for ending points\n",
    "\n",
    "# Combine all data from df1 into a single searchable column for simplicity\n",
    "df1['concatenated'] = df1.apply(lambda row: ','.join(row.astype(str)), axis=1)\n",
    "\n",
    "# Dictionary to hold the matched identifier from df1 for each point\n",
    "point_to_identifier_dict = {}\n",
    "\n",
    "# Search for each point in the concatenated data of df1\n",
    "for point in df2[start_column].tolist() + df2[end_column].tolist():\n",
    "    matched_row = df1[df1['concatenated'].str.contains(point, regex=False)]\n",
    "    if not matched_row.empty:\n",
    "        point_to_identifier_dict[point] = matched_row.iloc[0, 0]\n",
    "\n",
    "# Update df2 based on matches\n",
    "for i, row in df2.iterrows():\n",
    "    # For starting points\n",
    "    start_point = row[start_column]\n",
    "    if start_point in point_to_identifier_dict:\n",
    "        df2.loc[i, 'Unnamed: 1'] = point_to_identifier_dict[start_point]\n",
    "    \n",
    "    # For ending points\n",
    "    end_point = row[end_column]\n",
    "    if end_point in point_to_identifier_dict:\n",
    "        df2.loc[i, 'Unnamed: 2'] = point_to_identifier_dict[end_point]\n"
   ]
  },
  {
   "cell_type": "code",
   "execution_count": 20,
   "metadata": {},
   "outputs": [],
   "source": [
    "output_file_path = \"C:/Users/SID-DRW/OneDrive - Delft University of Technology/Desktop/new_boundaries_0204/GH/transition_data_processing/csv/ALL_STARTS_AND_ENDS_with_stateID.csv\"\n",
    "df2.to_csv(output_file_path, index=False)"
   ]
  }
 ],
 "metadata": {
  "kernelspec": {
   "display_name": "HDSS",
   "language": "python",
   "name": "python3"
  },
  "language_info": {
   "codemirror_mode": {
    "name": "ipython",
    "version": 3
   },
   "file_extension": ".py",
   "mimetype": "text/x-python",
   "name": "python",
   "nbconvert_exporter": "python",
   "pygments_lexer": "ipython3",
   "version": "3.11.5"
  }
 },
 "nbformat": 4,
 "nbformat_minor": 2
}
