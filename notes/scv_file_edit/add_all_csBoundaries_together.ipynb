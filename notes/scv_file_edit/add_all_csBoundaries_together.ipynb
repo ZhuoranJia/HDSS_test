{
 "cells": [
  {
   "cell_type": "markdown",
   "metadata": {},
   "source": [
    "## Add all lower, upper and wall boundaries together, with banlk cells inbetween"
   ]
  },
  {
   "cell_type": "code",
   "execution_count": 22,
   "metadata": {},
   "outputs": [
    {
     "name": "stdout",
     "output_type": "stream",
     "text": [
      "Data successfully combined and written to C:/Users/SID-DRW/OneDrive - Delft University of Technology/Desktop/little_tests/delete_later/test_total.csv\n"
     ]
    }
   ],
   "source": [
    "\n",
    "import csv\n",
    "\n",
    "# Define the file paths\n",
    "file1_path = \"C:/Users/SID-DRW/OneDrive - Delft University of Technology/Desktop/little_tests/delete_later/cs_name_area_only.csv\"\n",
    "file2_path = \"C:/Users/SID-DRW/OneDrive - Delft University of Technology/Desktop/little_tests/delete_later/room_lower_boundaries.csv\"\n",
    "file3_path = \"C:/Users/SID-DRW/OneDrive - Delft University of Technology/Desktop/little_tests/delete_later/room_upper_boundaries.csv\"\n",
    "file4_path = \"C:/Users/SID-DRW/OneDrive - Delft University of Technology/Desktop/little_tests/delete_later/room_wall_boundaries.csv\"\n",
    "output_file_path = \"C:/Users/SID-DRW/OneDrive - Delft University of Technology/Desktop/little_tests/delete_later/test_total.csv\"  # Desired output file path\n",
    "\n",
    "\n",
    "# Read CSV file and return its content\n",
    "def read_csv(file_path):\n",
    "    with open(file_path, newline='', encoding='utf-8') as csvfile:\n",
    "        reader = csv.reader(csvfile)\n",
    "        return [row for row in reader]\n",
    "\n",
    "# Process each row to fit the desired output format\n",
    "def process_row(row, separator=' '):\n",
    "    # Splitting the row by space and only taking up to three float numbers for each cell from the third column onward\n",
    "    processed = []\n",
    "    for item in row:\n",
    "        numbers = item.split(separator)[:3]  # Take up to the first three elements\n",
    "        processed.extend(numbers)\n",
    "    return processed\n",
    "\n",
    "# Load data from all files\n",
    "data1 = read_csv(file1_path)\n",
    "data2 = read_csv(file2_path)\n",
    "data3 = read_csv(file3_path)\n",
    "data4 = read_csv(file4_path)\n",
    "\n",
    "# Determine the minimum number of rows among the files\n",
    "min_rows = min(len(data1), len(data2), len(data3), len(data4))\n",
    "\n",
    "with open(output_file_path, 'w', newline='', encoding='utf-8') as file:\n",
    "    writer = csv.writer(file)\n",
    "    for i in range(min_rows):\n",
    "        # Combine rows from all files with 'ADD' as a separator between them\n",
    "        combined = data1[i] + data2[i] + ['ADD'] + data3[i] + ['ADD'] + data4[i]\n",
    "        # Process the combined row to match the desired format\n",
    "        processed_row = process_row(combined)\n",
    "        writer.writerow(processed_row)\n",
    "\n",
    "print(f\"Data successfully combined and written to {output_file_path}\")\n",
    "\n",
    "\n",
    "\n"
   ]
  },
  {
   "cell_type": "markdown",
   "metadata": {},
   "source": [
    "## Remove the blank cells"
   ]
  },
  {
   "cell_type": "code",
   "execution_count": 23,
   "metadata": {},
   "outputs": [
    {
     "name": "stdout",
     "output_type": "stream",
     "text": [
      "Cleaned data written to C:/Users/SID-DRW/OneDrive - Delft University of Technology/Desktop/little_tests/delete_later/test_total.csv\n"
     ]
    }
   ],
   "source": [
    "import csv\n",
    "\n",
    "# Define the path to the input file and the output file\n",
    "input_file_path = output_file_path\n",
    "output_clean_file_path = \"C:/Users/SID-DRW/OneDrive - Delft University of Technology/Desktop/little_tests/delete_later/cleaned_test_total.csv\"\n",
    "\n",
    "# Function to remove blank cells from a row\n",
    "def remove_blank_cells(row):\n",
    "    return [cell for cell in row if cell.strip()]\n",
    "\n",
    "# Open the input file and read its content\n",
    "with open(input_file_path, newline='', encoding='utf-8') as input_file:\n",
    "    reader = csv.reader(input_file)\n",
    "    data = list(reader)\n",
    "\n",
    "# Process each row to remove any blank cells\n",
    "cleaned_data = [remove_blank_cells(row) for row in data]\n",
    "\n",
    "# Write the cleaned data to the output file\n",
    "with open(output_clean_file_path, 'w', newline='', encoding='utf-8') as output_file:\n",
    "    writer = csv.writer(output_file)\n",
    "    writer.writerows(cleaned_data)\n",
    "\n",
    "print(f\"Cleaned data written to {output_file_path}\")\n"
   ]
  }
 ],
 "metadata": {
  "kernelspec": {
   "display_name": "HDSS",
   "language": "python",
   "name": "python3"
  },
  "language_info": {
   "codemirror_mode": {
    "name": "ipython",
    "version": 3
   },
   "file_extension": ".py",
   "mimetype": "text/x-python",
   "name": "python",
   "nbconvert_exporter": "python",
   "pygments_lexer": "ipython3",
   "version": "3.11.5"
  }
 },
 "nbformat": 4,
 "nbformat_minor": 2
}
