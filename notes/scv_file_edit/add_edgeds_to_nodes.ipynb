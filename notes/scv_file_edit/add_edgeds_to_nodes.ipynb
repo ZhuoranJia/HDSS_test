{
 "cells": [
  {
   "cell_type": "code",
   "execution_count": 42,
   "metadata": {},
   "outputs": [],
   "source": [
    "import pandas as pd\n",
    "from collections import defaultdict\n",
    "import csv"
   ]
  },
  {
   "cell_type": "code",
   "execution_count": 33,
   "metadata": {},
   "outputs": [
    {
     "name": "stdout",
     "output_type": "stream",
     "text": [
      "defaultdict(<class 'set'>, {'SD8': {'T1', 'T153'}, 'S1': {'T1', 'T2', 'T3'}, 'SD72': {'T2', 'T37'}, 'SD75': {'T3', 'T268'}, 'SD39': {'T4', 'T261'}, 'S2': {'T11', 'T4', 'T13', 'T9', 'T10', 'T12', 'T14', 'T15', 'T7', 'T5', 'T6', 'T8'}, 'SD51': {'T5', 'T188'}, 'SD52': {'T6', 'T323'}, 'SD53': {'T7', 'T354'}, 'SD57': {'T8', 'T220'}, 'SD58': {'T221', 'T9'}, 'SD59': {'T292', 'T10'}, 'SD61': {'T11', 'T325'}, 'SD117': {'T265', 'T12'}, 'SD203': {'T13', 'T291'}, 'SD205': {'T421', 'T14'}, 'SD206': {'T324', 'T15'}, 'SD199': {'T31', 'T16'}, 'S3': {'T16'}, 'SD92': {'T386', 'T17'}, 'S4': {'T22', 'T26', 'T28', 'T19', 'T25', 'T27', 'T20', 'T21', 'T23', 'T17', 'T18', 'T24'}, 'SD93': {'T18', 'T440'}, 'SD95': {'T93', 'T19'}, 'SD101': {'T20', 'T245'}, 'SD102': {'T21', 'T414'}, 'SD103': {'T22', 'T444'}, 'SD109': {'T23', 'T390'}, 'SD110': {'T198', 'T24'}, 'SD112': {'T25', 'T391'}, 'SD113': {'T26', 'T142'}, 'SD114': {'T244', 'T27'}, 'SD230': {'T28'}, 'SD5': {'T160', 'T29'}, 'S6': {'T31', 'T29', 'T30'}, 'SD142': {'T431', 'T30'}, 'SD128': {'T225', 'T32'}, 'S7': {'T33', 'T32'}, 'SD134': {'T33', 'T144'}, 'SD9': {'T34', 'T359'}, 'S8': {'T43', 'T35', 'T39', 'T42', 'T41', 'T36', 'T38', 'T37', 'T40', 'T34'}, 'SD70': {'T207', 'T35'}, 'SD71': {'T36', 'T427'}, 'SD78': {'T38', 'T443'}, 'SD79': {'T394', 'T39'}, 'SD84': {'T40', 'T87'}, 'SD87': {'T41', 'T271'}, 'SD88': {'T42', 'T332'}, 'SD210': {'T43', 'T426'}, 'SD145': {'T162', 'T44'}, 'S9': {'T51', 'T49', 'T46', 'T44', 'T50', 'T47', 'T45', 'T53', 'T52', 'T54', 'T48'}, 'SD178': {'T45', 'T273'}, 'SD180': {'T275', 'T46'}, 'SD181': {'T369', 'T47'}, 'SD182': {'T370', 'T48'}, 'SD183': {'T402', 'T49'}, 'SD184': {'T50', 'T403'}, 'SD192': {'T51', 'T306'}, 'SD221': {'T400', 'T52'}, 'SD222': {'T53', 'T433'}, 'SD223': {'T54', 'T367'}, 'SD19': {'T55', 'T353'}, 'S10': {'T57', 'T59', 'T61', 'T56', 'T58', 'T60', 'T55'}, 'SD21': {'T289', 'T56'}, 'SD22': {'T290', 'T57'}, 'SD23': {'T205', 'T58'}, 'SD24': {'T164', 'T59'}, 'SD196': {'T448', 'T60'}, 'SD204': {'T61', 'T356'}, 'SD2': {'T240', 'T254', 'T62'}, 'S11': {'T64', 'T63', 'T65', 'T62'}, 'SD27': {'T418', 'T63'}, 'SD28': {'T64', 'T447'}, 'SD34': {'T65', 'T284'}, 'SD40': {'T66', 'T310'}, 'S12': {'T66', 'T70', 'T73', 'T72', 'T69', 'T68', 'T71', 'T67', 'T74'}, 'SD41': {'T344', 'T67'}, 'SD43': {'T279', 'T68'}, 'SD44': {'T410', 'T69'}, 'SD45': {'T346', 'T70'}, 'SD46': {'T258', 'T71'}, 'SD48': {'T72', 'T322'}, 'SD49': {'T73', 'T374'}, 'SD50': {'T409', 'T74'}, 'SD11': {'T384', 'T75'}, 'S13': {'T78', 'T80', 'T76', 'T81', 'T77', 'T79', 'T75'}, 'SD12': {'T76', 'T328'}, 'SD13': {'T77', 'T422'}, 'SD15': {'T123', 'T78'}, 'SD54': {'T126', 'T79'}, 'SD55': {'T80', 'T383'}, 'SD56': {'T81', 'T449'}, 'SD77': {'T82', 'T270'}, 'S14': {'T86', 'T82', 'T84', 'T85', 'T87', 'T83'}, 'SD80': {'T83', 'T378'}, 'SD81': {'T84', 'T453'}, 'SD82': {'T454', 'T85'}, 'SD83': {'T86', 'T250'}, 'SD85': {'T88', 'T301'}, 'S15': {'T89', 'T88', 'T95', 'T93', 'T92', 'T91', 'T90', 'T94'}, 'SD86': {'T89', 'T464', 'T360'}, 'SD89': {'T397', 'T90'}, 'SD90': {'T396', 'T91'}, 'SD91': {'T92', 'T450'}, 'SD194': {'T94', 'T387'}, 'SD212': {'T95'}, 'SD170': {'T96', 'T380'}, 'S16': {'T96', 'T104', 'T97', 'T103', 'T99', 'T102', 'T101', 'T98', 'T100'}, 'SD171': {'T97', 'T406'}, 'SD172': {'T98', 'T461'}, 'SD173': {'T408', 'T99'}, 'SD174': {'T435', 'T100'}, 'SD175': {'T342', 'T101'}, 'SD186': {'T140', 'T102', 'T466'}, 'SD188': {'T436', 'T103'}, 'SD189': {'T104', 'T277'}, 'SD154': {'T105', 'T339'}, 'S17': {'T108', 'T112', 'T109', 'T111', 'T115', 'T107', 'T105', 'T110', 'T114', 'T106', 'T113'}, 'SD155': {'T340', 'T106'}, 'SD156': {'T107', 'T460'}, 'SD157': {'T108', 'T404'}, 'SD158': {'T109', 'T446'}, 'SD159': {'T434', 'T110'}, 'SD160': {'T111'}, 'SD162': {'T112', 'T215'}, 'SD163': {'T276', 'T113'}, 'SD164': {'T114'}, 'SD165': {'T115', 'T459'}, 'SD97': {'T116', 'T330'}, 'S18': {'T116', 'T118', 'T117'}, 'SD100': {'T117', 'T452'}, 'SD193': {'T118', 'T407'}, 'SD190': {'T119', 'T146'}, 'S19': {'T119', 'T120'}, 'SD191': {'T120', 'T227', 'T467'}, 'SD1': {'T385', 'T121', 'T462'}, 'S20': {'T123', 'T122', 'T125', 'T124', 'T121'}, 'SD14': {'T376', 'T122'}, 'SD16': {'T124', 'T224'}, 'SD227': {'T125'}, 'S21': {'T127', 'T126'}, 'SD201': {'T189', 'T127'}, 'SD64': {'T128', 'T411'}, 'S22': {'T133', 'T130', 'T128', 'T132', 'T134', 'T135', 'T129', 'T131'}, 'SD65': {'T129', 'T280'}, 'SD66': {'T130', 'T412'}, 'SD67': {'T131', 'T347'}, 'SD68': {'T132', 'T312'}, 'SD207': {'T133', 'T313'}, 'SD208': {'T326', 'T134'}, 'SD209': {'T135', 'T413'}, 'SD152': {'T336', 'T136'}, 'S23': {'T138', 'T141', 'T140', 'T136', 'T139', 'T137'}, 'SD176': {'T341', 'T137'}, 'SD177': {'T405', 'T138'}, 'SD185': {'T305', 'T139'}, 'SD187': {'T141', 'T439'}, 'S24': {'T143', 'T142'}, 'SD115': {'T294', 'T143'}, 'S25': {'T144', 'T145', 'T146'}, 'SD135': {'T145', 'T429'}, 'SD124': {'T186', 'T147'}, 'S26': {'T152', 'T149', 'T151', 'T148', 'T147', 'T150'}, 'SD125': {'T148', 'T177'}, 'SD140': {'T373', 'T149'}, 'SD215': {'T150', 'T399'}, 'SD216': {'T375', 'T151'}, 'SD217': {'T152', 'T441'}, 'S27': {'T155', 'T158', 'T159', 'T153', 'T154', 'T157', 'T156'}, 'SD29': {'T154', 'T259'}, 'SD30': {'T155', 'T352'}, 'SD31': {'T417', 'T156'}, 'SD32': {'T157', 'T351'}, 'SD33': {'T350', 'T158'}, 'SD236': {'T159'}, 'S28': {'T160', 'T162', 'T163', 'T161'}, 'SD143': {'T194', 'T161'}, 'SD146': {'T163', 'T366'}, 'S29': {'T169', 'T165', 'T168', 'T167', 'T164', 'T166'}, 'SD25': {'T165', 'T316'}, 'SD26': {'T315', 'T166'}, 'SD36': {'T256', 'T167'}, 'SD37': {'T168', 'T223'}, 'SD235': {'T169'}, 'SD63': {'T170', 'T172'}, 'S30': {'T170'}, 'SD62': {'T445', 'T171'}, 'S31': {'T174', 'T172', 'T171', 'T175', 'T173'}, 'SD106': {'T173', 'T299'}, 'SD111': {'T358', 'T174'}, 'SD198': {'T382', 'T175'}, 'SD123': {'T176', 'T364'}, 'S32': {'T179', 'T177', 'T178', 'T176', 'T180'}, 'SD126': {'T208', 'T178'}, 'SD127': {'T456', 'T179'}, 'SD218': {'T180', 'T348'}, 'SD121': {'T181', 'T232'}, 'S33': {'T181', 'T182'}, 'SD214': {'T314', 'T182'}, 'SD130': {'T362', 'T183'}, 'S34': {'T185', 'T183', 'T184'}, 'SD136': {'T229', 'T184'}, 'SD137': {'T185', 'T237'}, 'S35': {'T187', 'T186'}, 'SD237': {'T187'}, 'S36': {'T189', 'T188', 'T190', 'T191'}, 'SD202': {'T190', 'T281'}, 'SD226': {'T420', 'T191'}, 'SD139': {'T257', 'T192'}, 'S37': {'T195', 'T194', 'T193', 'T192'}, 'SD141': {'T432', 'T193'}, 'SD219': {'T203', 'T195'}, 'SD107': {'T293', 'T196'}, 'S38': {'T196', 'T198', 'T199', 'T197'}, 'SD108': {'T389', 'T197'}, 'SD200': {'T199', 'T388'}, 'SD4': {'T241', 'T200'}, 'S39': {'T201', 'T200', 'T202'}, 'SD119': {'T201', 'T343', 'T463'}, 'SD120': {'T231', 'T202'}, 'S41': {'T204', 'T203'}, 'SD238': {'T204'}, 'S43': {'T205'}, 'SD73': {'T266', 'T206'}, 'S44': {'T206'}, 'S45': {'T207'}, 'S46': {'T208'}, 'SD147': {'T335', 'T209'}, 'S47': {'T209', 'T213', 'T210', 'T211', 'T212'}, 'SD148': {'T210', 'T234'}, 'SD149': {'T457', 'T211'}, 'SD150': {'T458', 'T212'}, 'SD151': {'T213', 'T334'}, 'SD161': {'T416', 'T214'}, 'S48': {'T218', 'T214', 'T216', 'T219', 'T215', 'T217'}, 'SD166': {'T438', 'T216'}, 'SD167': {'T249', 'T217'}, 'SD168': {'T437', 'T218'}, 'SD169': {'T219', 'T371'}, 'S49': {'T221', 'T220'}, 'SD3': {'T465', 'T222', 'T283'}, 'S50': {'T222', 'T223'}, 'S51': {'T462', 'T224', 'T468'}, 'S52': {'T226', 'T227', 'T225', 'T228'}, 'SD138': {'T226', 'T349'}, 'SD220': {'T379', 'T228'}, 'S53': {'T229'}, 'SD118': {'T230', 'T365'}, 'S54': {'T230', 'T231', 'T232', 'T233'}, 'SD122': {'T304', 'T233'}, 'S55': {'T236', 'T235', 'T234'}, 'SD224': {'T307', 'T235'}, 'SD225': {'T308', 'T236'}, 'S56': {'T237'}, 'SD69': {'T238', 'T263'}, 'S57': {'T238', 'T239'}, 'SD195': {'T239'}, 'S58': {'T240'}, 'S59': {'T241'}, 'SD17': {'T242', 'T286'}, 'S60': {'T242'}, 'SD234': {'T243'}, 'S61': {'T243'}, 'S62': {'T244'}, 'S63': {'T245'}, 'SD213': {'T372', 'T246'}, 'S64': {'T246', 'T247'}, 'SD231': {'T247'}, 'SD179': {'T248', 'T274'}, 'S65': {'T248'}, 'S66': {'T249'}, 'S67': {'T250'}, 'SD132': {'T252', 'T251'}, 'S68': {'T251'}, 'S69': {'T253', 'T252'}, 'SD133': {'T398', 'T253'}, 'S70': {'T254', 'T255', 'T256'}, 'SD35': {'T377', 'T255'}, 'S71': {'T257'}, 'S72': {'T258'}, 'S74': {'T259'}, 'SD38': {'T260', 'T309'}, 'S75': {'T260', 'T261', 'T262'}, 'SD197': {'T320', 'T262'}, 'S76': {'T264', 'T265', 'T263'}, 'SD116': {'T264', 'T327'}, 'S77': {'T266', 'T269', 'T267', 'T270', 'T268'}, 'SD74': {'T303', 'T267'}, 'SD76': {'T282', 'T269'}, 'S78': {'T271'}, 'SD144': {'T272', 'T368'}, 'S79': {'T272', 'T274', 'T273'}, 'S80': {'T275'}, 'S81': {'T276'}, 'S83': {'T277'}, 'SD105': {'T278', 'T357'}, 'S85': {'T278'}, 'S86': {'T279'}, 'S87': {'T280'}, 'S88': {'T281'}, 'S89': {'T282'}, 'S90': {'T284', 'T283'}, 'SD7': {'T319', 'T285'}, 'S91': {'T287', 'T288', 'T285', 'T286'}, 'SD18': {'T287', 'T318'}, 'SD20': {'T288', 'T419'}, 'S92': {'T289'}, 'S93': {'T290'}, 'S94': {'T291'}, 'S95': {'T292'}, 'S96': {'T293'}, 'S97': {'T294'}, 'SD96': {'T425', 'T295'}, 'S98': {'T297', 'T296', 'T295'}, 'SD98': {'T296', 'T423'}, 'SD99': {'T393', 'T297'}, 'SD104': {'T298', 'T415'}, 'S99': {'T298', 'T299'}, 'SD6': {'T300', 'T395'}, 'S100': {'T300', 'T301', 'T302'}, 'SD211': {'T428', 'T302'}, 'S101': {'T303'}, 'S102': {'T304'}, 'S103': {'T305', 'T306'}, 'S104': {'T308', 'T307'}, 'S105': {'T309'}, 'S106': {'T311', 'T310'}, 'SD42': {'T311', 'T345'}, 'S107': {'T312'}, 'S108': {'T313'}, 'S109': {'T314'}, 'S111': {'T315'}, 'S112': {'T316'}, 'SD10': {'T401', 'T317'}, 'S113': {'T317'}, 'S114': {'T318'}, 'S115': {'T319'}, 'S116': {'T320'}, 'SD47': {'T321', 'T442'}, 'S117': {'T322', 'T321'}, 'S118': {'T323'}, 'S119': {'T324'}, 'S120': {'T326', 'T325'}, 'S121': {'T327'}, 'S122': {'T328'}, 'SD228': {'T329'}, 'S123': {'T329'}, 'S124': {'T330'}, 'SD94': {'T424', 'T331'}, 'S125': {'T331'}, 'S126': {'T332'}, 'SD131': {'T333', 'T363'}, 'S127': {'T333'}, 'S128': {'T334'}, 'S129': {'T335'}, 'S130': {'T336', 'T337'}, 'SD153': {'T338', 'T337'}, 'S131': {'T338', 'T339'}, 'S132': {'T340'}, 'S133': {'T341'}, 'S134': {'T342'}, 'S135': {'T343', 'T468', 'T463'}, 'S138': {'T345', 'T344'}, 'S139': {'T346'}, 'S140': {'T347'}, 'S141': {'T348'}, 'S146': {'T349'}, 'S148': {'T350'}, 'S149': {'T351'}, 'S150': {'T352'}, 'S152': {'T353'}, 'S154': {'T354'}, 'SD60': {'T381', 'T355'}, 'S155': {'T355'}, 'S156': {'T356'}, 'S157': {'T358', 'T357'}, 'S158': {'T359'}, 'S159': {'T464', 'T469', 'T360'}, 'SD129': {'T361', 'T430'}, 'S160': {'T362', 'T361', 'T363'}, 'S161': {'T364'}, 'S162': {'T365'}, 'S163': {'T366', 'T367'}, 'S164': {'T368'}, 'S165': {'T369'}, 'S166': {'T370'}, 'S167': {'T371'}, 'S169': {'T372'}, 'S170': {'T373'}, 'S171': {'T374'}, 'S172': {'T375'}, 'S174': {'T376'}, 'S175': {'T377'}, 'S176': {'T378'}, 'S177': {'T379'}, 'S178': {'T380'}, 'S179': {'T381', 'T382'}, 'S180': {'T383'}, 'S181': {'T384'}, 'S182': {'T385'}, 'S183': {'T386'}, 'S184': {'T387'}, 'S185': {'T388'}, 'S186': {'T389', 'T390'}, 'S187': {'T391'}, 'SD232': {'T392'}, 'S188': {'T392'}, 'S189': {'T393'}, 'S190': {'T394'}, 'S191': {'T395'}, 'S192': {'T396'}, 'S193': {'T397'}, 'S196': {'T398'}, 'S197': {'T399'}, 'S198': {'T400'}, 'S199': {'T401'}, 'S200': {'T402'}, 'S201': {'T403'}, 'S202': {'T404'}, 'S203': {'T405'}, 'S204': {'T406'}, 'S205': {'T407'}, 'S207': {'T408'}, 'S208': {'T409'}, 'S209': {'T410'}, 'S210': {'T411'}, 'S211': {'T412'}, 'S212': {'T413'}, 'S213': {'T414'}, 'S214': {'T415'}, 'S215': {'T416'}, 'S216': {'T417'}, 'S217': {'T418'}, 'S218': {'T419'}, 'S219': {'T420'}, 'S220': {'T421'}, 'S221': {'T422'}, 'S222': {'T423'}, 'S223': {'T424', 'T425'}, 'S224': {'T426'}, 'S225': {'T427'}, 'S226': {'T428'}, 'S227': {'T429'}, 'S228': {'T430'}, 'S229': {'T431'}, 'S230': {'T432'}, 'S231': {'T433'}, 'S232': {'T434'}, 'S233': {'T435'}, 'S234': {'T436'}, 'S235': {'T437'}, 'S236': {'T438'}, 'S237': {'T439', 'T469', 'T466'}, 'S238': {'T440'}, 'S239': {'T441'}, 'S240': {'T442'}, 'S241': {'T443'}, 'S242': {'T444'}, 'S243': {'T445'}, 'S244': {'T446'}, 'S245': {'T447'}, 'S247': {'T448'}, 'S248': {'T449'}, 'S249': {'T450'}, 'SD229': {'T451'}, 'S250': {'T451'}, 'S251': {'T452'}, 'S252': {'T453'}, 'S253': {'T454'}, 'SD233': {'T455'}, 'S254': {'T455'}, 'S255': {'T456'}, 'S256': {'T457'}, 'S257': {'T458'}, 'S258': {'T459'}, 'S259': {'T460'}, 'S260': {'T461'}, 'S194': {'T465', 'T470'}, 'S264': {'T470', 'T467'}})\n"
     ]
    }
   ],
   "source": [
    "\n",
    "\n",
    "# Load the original CSV file\n",
    "#edges_df = pd.read_csv(\"C:/Users/SID-DRW/OneDrive - Delft University of Technology/Desktop/new_boundaries_0204/hugo_test/edges.csv\")\n",
    "edges_df = pd.read_csv(\"C:/Users/SID-DRW/OneDrive - Delft University of Technology/Desktop/new_boundaries_0204/GENERATING_GML/real_edges.csv\")\n",
    "\n",
    "# Initialize a dictionary to hold the connection information for each node\n",
    "nodes_connections = defaultdict(set)\n",
    "\n",
    "# Process each row in the edges DataFrame\n",
    "for _, row in edges_df.iterrows():\n",
    "    transition_no = row['TRANSITION NO.']\n",
    "    nodes = [row['Unnamed: 1'], row['Unnamed: 2']]  # Extract the node identifiers\n",
    "    for node in nodes:\n",
    "        nodes_connections[node].add(transition_no)  # Add the transition to the node's connections\n",
    "\n",
    "\n",
    "print(nodes_connections)\n",
    "\n"
   ]
  },
  {
   "cell_type": "code",
   "execution_count": 35,
   "metadata": {},
   "outputs": [
    {
     "data": {
      "text/plain": [
       "'C:/Users/SID-DRW/OneDrive - Delft University of Technology/Desktop/new_boundaries_0204/hugo_test/delete_this_test.csv'"
      ]
     },
     "execution_count": 35,
     "metadata": {},
     "output_type": "execute_result"
    }
   ],
   "source": [
    "\n",
    "\n",
    "# Simplified data snippet for demonstration\n",
    "data = {\n",
    "    'SD8': {'T1', 'T153'}, 'S1': {'T1', 'T2', 'T3'}, 'SD72': {'T2', 'T37'},\n",
    "    'SD75': {'T3', 'T268'}, 'SD39': {'T4', 'T261'}, 'S2': {'T11', 'T4', 'T13', 'T9', 'T10', 'T12', 'T14', 'T15', 'T7', 'T5', 'T6', 'T8'},\n",
    "}\n",
    "\n",
    "# Specify the CSV file path\n",
    "csv_file_path = \"C:/Users/SID-DRW/OneDrive - Delft University of Technology/Desktop/new_boundaries_0204/hugo_test/delete_this_test.csv\"\n",
    "\n",
    "# Writing to the CSV file\n",
    "with open(csv_file_path, mode='w', newline='') as file:\n",
    "    writer = csv.writer(file)\n",
    "    writer.writerow(['Nodes', 'Edges'])  # Writing the header\n",
    "    \n",
    "    for key, values in nodes_connections.items():\n",
    "        # Flatten the set of values into a string separated by commas\n",
    "        values_str = ', '.join(sorted(values))\n",
    "        writer.writerow([key, values_str])\n",
    "\n",
    "# Return the path to the CSV file\n",
    "csv_file_path\n"
   ]
  },
  {
   "cell_type": "code",
   "execution_count": 41,
   "metadata": {},
   "outputs": [],
   "source": [
    "\n",
    "\n",
    "# Corrected sorting key function\n",
    "def sort_key_improved(x):\n",
    "    node = x[0]\n",
    "    if node.startswith('S') and not node.startswith('SD'):  # Separate 'S' nodes from 'SD'\n",
    "        return (0, int(node[1:]) if node[1:].isdigit() else float('inf'))\n",
    "    elif node.startswith('SD'):  # Then sort 'SD' nodes\n",
    "        return (1, int(node[2:]) if node[2:].isdigit() else float('inf'))\n",
    "    return (2, node)  # Fallback\n",
    "\n",
    "# Define the input and output file paths\n",
    "csv_input_path = csv_file_path\n",
    "csv_output_path_improved = \"C:/Users/SID-DRW/OneDrive - Delft University of Technology/Desktop/new_boundaries_0204/hugo_test/sorted_nodes.csv\"\n",
    "\n",
    "# Read the data from the CSV file\n",
    "data = []\n",
    "with open(csv_input_path, mode='r', newline='') as file:\n",
    "    reader = csv.reader(file)\n",
    "    header = next(reader)  # Skip the header\n",
    "    data = [row for row in reader]\n",
    "\n",
    "# Sort the data using the improved sorting key\n",
    "data_sorted_improved = sorted(data, key=sort_key_improved)\n",
    "\n",
    "# Write the sorted data to a new CSV file\n",
    "with open(csv_output_path_improved, mode='w', newline='') as file:\n",
    "    writer = csv.writer(file)\n",
    "    writer.writerow(header)  # Re-write the header\n",
    "    writer.writerows(data_sorted_improved)\n"
   ]
  },
  {
   "cell_type": "code",
   "execution_count": 43,
   "metadata": {},
   "outputs": [],
   "source": [
    "\n",
    "\n",
    "# Paths for the two CSV files\n",
    "file1_path = \"C:/Users/SID-DRW/OneDrive - Delft University of Technology/Desktop/new_boundaries_0204/GH/state_data_processing/state_withou_title_plus_doorPoints_spaceDeleted.csv\"\n",
    "file2_path = csv_output_path_improved\n",
    "\n",
    "# Load the first CSV file assuming it does not have a header\n",
    "df1 = pd.read_csv(file1_path, header=None)\n",
    "\n",
    "# Load the second CSV file which has headers\n",
    "df2 = pd.read_csv(file2_path)\n",
    "\n",
    "# Assigning temporary column names to df1 for clarity\n",
    "df1.columns = ['Node', 'CellSpace', 'Coordinates']\n",
    "\n",
    "# Ensuring column names in df2 match our expected names for clarity\n",
    "# This step might be redundant if the names already match but ensures clarity\n",
    "df2.columns = ['Node', 'edges']\n",
    "\n",
    "# Merging the two DataFrames based on the 'Node' column\n",
    "# The 'Associated Values' from df2 are added to df1 based on matching 'Node' values\n",
    "merged_df = df1.merge(df2, on='Node', how='left')\n",
    "\n",
    "# Specify the output file path for the merged DataFrame\n",
    "output_csv_path_corrected = \"C:/Users/SID-DRW/OneDrive - Delft University of Technology/Desktop/new_boundaries_0204/GENERATING_GML/states_and_edges.csv\"\n",
    "\n",
    "# Save the merged DataFrame to a new CSV file\n",
    "merged_df.to_csv(output_csv_path_corrected, index=False)\n"
   ]
  },
  {
   "cell_type": "code",
   "execution_count": 49,
   "metadata": {},
   "outputs": [],
   "source": [
    "# Paths for the two CSV files\n",
    "file1_path = \"C:/Users/SID-DRW/OneDrive - Delft University of Technology/Desktop/new_boundaries_0204/GH/state_data_processing/state_withou_title_plus_doorPoints_spaceDeleted.csv\"\n",
    "file2_path = csv_output_path_improved\n",
    "\n",
    "# Load the first CSV file assuming it does not have a header\n",
    "df1 = pd.read_csv(file1_path, header=None)\n",
    "\n",
    "# Load the second CSV file which has headers\n",
    "df2 = pd.read_csv(file2_path)\n",
    "\n",
    "# Assigning temporary column names to df1 for clarity\n",
    "df1.columns = ['Node', 'CellSpace', 'Coordinates']\n",
    "\n",
    "# Ensuring column names in df2 match our expected names for clarity\n",
    "# This step might be redundant if the names already match but ensures clarity\n",
    "df2.columns = ['Node', 'edges']\n",
    "\n",
    "# Merging the two DataFrames based on the 'Node' column\n",
    "# The 'Associated Values' from df2 are added to df1 based on matching 'Node' values\n",
    "merged_df = df1.merge(df2, on='Node', how='left')\n",
    "\n",
    "# Specify the output file path for the merged DataFrame\n",
    "output_csv_path_corrected = \"C:/Users/SID-DRW/OneDrive - Delft University of Technology/Desktop/new_boundaries_0204/GENERATING_GML/states_and_edges.csv\"\n",
    "\n",
    "# Save the merged DataFrame to a new CSV file\n",
    "merged_df.to_csv(output_csv_path_corrected, index=False,header=0)"
   ]
  }
 ],
 "metadata": {
  "kernelspec": {
   "display_name": "HDSS",
   "language": "python",
   "name": "python3"
  },
  "language_info": {
   "codemirror_mode": {
    "name": "ipython",
    "version": 3
   },
   "file_extension": ".py",
   "mimetype": "text/x-python",
   "name": "python",
   "nbconvert_exporter": "python",
   "pygments_lexer": "ipython3",
   "version": "3.11.5"
  }
 },
 "nbformat": 4,
 "nbformat_minor": 2
}
