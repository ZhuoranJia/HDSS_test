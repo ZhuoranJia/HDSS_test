{
 "cells": [
  {
   "cell_type": "code",
   "execution_count": 1,
   "metadata": {},
   "outputs": [
    {
     "name": "stdout",
     "output_type": "stream",
     "text": [
      "C:/Users/SID-DRW/OneDrive - Delft University of Technology/Desktop/new_boundaries_0204/hugo_test/transformed_edges_of_nodes_sorted.csv\n"
     ]
    }
   ],
   "source": [
    "import pandas as pd\n",
    "from collections import defaultdict\n",
    "\n",
    "# Load the original CSV file\n",
    "edges_df = pd.read_csv(\"C:/Users/SID-DRW/OneDrive - Delft University of Technology/Desktop/new_boundaries_0204/hugo_test/edges.csv\")\n",
    "\n",
    "# Initialize a dictionary to hold the connection information for each node\n",
    "nodes_connections = defaultdict(set)\n",
    "\n",
    "# Process each row in the edges DataFrame\n",
    "for _, row in edges_df.iterrows():\n",
    "    transition_no = row['TRANSITION NO.']\n",
    "    nodes = [row['Unnamed: 1'], row['Unnamed: 2']]  # Extract the node identifiers\n",
    "    for node in nodes:\n",
    "        nodes_connections[node].add(transition_no)  # Add the transition to the node's connections\n",
    "\n",
    "# Function to sort nodes first by prefix ('N' before 'SD') and then numerically\n",
    "def sort_nodes(node):\n",
    "    prefix, num = node[0:2], node[2:]\n",
    "    return (prefix, int(num) if num.isdigit() else num)\n",
    "\n",
    "# Convert the dictionary into a sorted list of tuples and then to a DataFrame for exporting\n",
    "sorted_nodes = sorted(nodes_connections.items(), key=lambda item: sort_nodes(item[0]))\n",
    "nodes_df = pd.DataFrame([(node, ','.join(sorted(connections))) for node, connections in sorted_nodes],\n",
    "                        columns=['nodes', 'connects'])\n",
    "\n",
    "# Define the output file path\n",
    "output_file_path = \"C:/Users/SID-DRW/OneDrive - Delft University of Technology/Desktop/new_boundaries_0204/hugo_test/transformed_edges_of_nodes_sorted.csv\"\n",
    "\n",
    "# Save the DataFrame to a new CSV file\n",
    "nodes_df.to_csv(output_file_path, index=False)\n",
    "\n",
    "# Output the path for downloading\n",
    "print(output_file_path)\n"
   ]
  }
 ],
 "metadata": {
  "kernelspec": {
   "display_name": "HDSS",
   "language": "python",
   "name": "python3"
  },
  "language_info": {
   "codemirror_mode": {
    "name": "ipython",
    "version": 3
   },
   "file_extension": ".py",
   "mimetype": "text/x-python",
   "name": "python",
   "nbconvert_exporter": "python",
   "pygments_lexer": "ipython3",
   "version": "3.11.5"
  }
 },
 "nbformat": 4,
 "nbformat_minor": 2
}
