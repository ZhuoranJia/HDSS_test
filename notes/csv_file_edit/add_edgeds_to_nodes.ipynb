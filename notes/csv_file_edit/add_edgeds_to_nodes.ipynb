{
 "cells": [
  {
   "cell_type": "code",
   "execution_count": 11,
   "metadata": {},
   "outputs": [],
   "source": [
    "import pandas as pd\n",
    "from collections import defaultdict\n",
    "import csv"
   ]
  },
  {
   "cell_type": "code",
   "execution_count": 12,
   "metadata": {},
   "outputs": [
    {
     "name": "stdout",
     "output_type": "stream",
     "text": [
      "defaultdict(<class 'set'>, {'SD8': {'T1', 'T153'}, 'N1': {'T1', 'T3', 'T2'}, 'SD72': {'T37', 'T2'}, 'SD75': {'T268', 'T3'}, 'SD39': {'T4', 'T261'}, 'N2': {'T5', 'T6', 'T4', 'T12', 'T10', 'T14', 'T8', 'T7', 'T13', 'T9', 'T11', 'T15'}, 'SD51': {'T5', 'T188'}, 'SD52': {'T6', 'T323'}, 'SD53': {'T7', 'T354'}, 'SD57': {'T220', 'T8'}, 'SD58': {'T221', 'T9'}, 'SD59': {'T292', 'T10'}, 'SD61': {'T325', 'T11'}, 'SD117': {'T12', 'T265'}, 'SD203': {'T13', 'T291'}, 'SD205': {'T421', 'T14'}, 'SD206': {'T324', 'T15'}, 'SD199': {'T16', 'T31'}, 'N3': {'T16'}, 'SD92': {'T386', 'T17'}, 'N4': {'T25', 'T19', 'T22', 'T28', 'T26', 'T20', 'T24', 'T21', 'T23', 'T18', 'T17', 'T27'}, 'SD93': {'T18', 'T440'}, 'SD95': {'T93', 'T19'}, 'SD101': {'T245', 'T20'}, 'SD102': {'T414', 'T21'}, 'SD103': {'T444', 'T22'}, 'SD109': {'T23', 'T390'}, 'SD110': {'T198', 'T24'}, 'SD112': {'T25', 'T391'}, 'SD113': {'T26', 'T142'}, 'SD114': {'T244', 'T27'}, 'SD230': {'T28'}, 'SD5': {'T29', 'T160'}, 'N6': {'T30', 'T29', 'T31'}, 'SD142': {'T431', 'T30'}, 'SD128': {'T225', 'T32'}, 'N7': {'T33', 'T32'}, 'SD134': {'T144', 'T33'}, 'SD9': {'T34', 'T359'}, 'N8': {'T42', 'T39', 'T43', 'T38', 'T41', 'T36', 'T40', 'T35', 'T34', 'T37'}, 'SD70': {'T207', 'T35'}, 'SD71': {'T36', 'T427'}, 'SD78': {'T38', 'T443'}, 'SD79': {'T39', 'T394'}, 'SD84': {'T40', 'T87'}, 'SD87': {'T41', 'T271'}, 'SD88': {'T42', 'T332'}, 'SD210': {'T43', 'T426'}, 'SD145': {'T162', 'T44'}, 'N9': {'T45', 'T44', 'T54', 'T52', 'T47', 'T48', 'T49', 'T46', 'T53', 'T51', 'T50'}, 'SD178': {'T45', 'T273'}, 'SD180': {'T46', 'T275'}, 'SD181': {'T369', 'T47'}, 'SD182': {'T48', 'T370'}, 'SD183': {'T402', 'T49'}, 'SD184': {'T403', 'T50'}, 'SD192': {'T306', 'T51'}, 'SD221': {'T52', 'T400'}, 'SD222': {'T53', 'T433'}, 'SD223': {'T54', 'T367'}, 'SD19': {'T55', 'T353'}, 'N10': {'T60', 'T55', 'T56', 'T57', 'T61', 'T58', 'T59'}, 'SD21': {'T56', 'T289'}, 'SD22': {'T290', 'T57'}, 'SD23': {'T58', 'T205'}, 'SD24': {'T59', 'T164'}, 'SD196': {'T448', 'T60'}, 'SD204': {'T61', 'T356'}, 'SD2': {'T240', 'T254', 'T62'}, 'N11': {'T65', 'T63', 'T64', 'T62'}, 'SD27': {'T418', 'T63'}, 'SD28': {'T447', 'T64'}, 'SD34': {'T65', 'T284'}, 'SD40': {'T310', 'T66'}, 'N12': {'T72', 'T74', 'T68', 'T73', 'T66', 'T67', 'T69', 'T70', 'T71'}, 'SD41': {'T67', 'T344'}, 'SD43': {'T279', 'T68'}, 'SD44': {'T69', 'T410'}, 'SD45': {'T70', 'T346'}, 'SD46': {'T258', 'T71'}, 'SD48': {'T72', 'T322'}, 'SD49': {'T73', 'T374'}, 'SD50': {'T409', 'T74'}, 'SD11': {'T75', 'T384'}, 'N13': {'T77', 'T81', 'T75', 'T79', 'T76', 'T80', 'T78'}, 'SD12': {'T328', 'T76'}, 'SD13': {'T77', 'T422'}, 'SD15': {'T78', 'T123'}, 'SD54': {'T79', 'T126'}, 'SD55': {'T383', 'T80'}, 'SD56': {'T449', 'T81'}, 'SD77': {'T270', 'T82'}, 'N14': {'T86', 'T84', 'T82', 'T83', 'T87', 'T85'}, 'SD80': {'T378', 'T83'}, 'SD81': {'T453', 'T84'}, 'SD82': {'T85', 'T454'}, 'SD83': {'T86', 'T250'}, 'SD85': {'T88', 'T301'}, 'N15': {'T89', 'T88', 'T91', 'T92', 'T93', 'T95', 'T94', 'T90'}, 'SD86': {'T464', 'T360', 'T89'}, 'SD89': {'T397', 'T90'}, 'SD90': {'T396', 'T91'}, 'SD91': {'T450', 'T92'}, 'SD194': {'T387', 'T94'}, 'SD212': {'T95'}, 'SD170': {'T96', 'T380'}, 'N16': {'T104', 'T101', 'T98', 'T100', 'T102', 'T99', 'T97', 'T96', 'T103'}, 'SD171': {'T97', 'T406'}, 'SD172': {'T461', 'T98'}, 'SD173': {'T99', 'T408'}, 'SD174': {'T435', 'T100'}, 'SD175': {'T101', 'T342'}, 'SD186': {'T466', 'T140', 'T102'}, 'SD188': {'T436', 'T103'}, 'SD189': {'T104', 'T277'}, 'SD154': {'T339', 'T105'}, 'N17': {'T110', 'T114', 'T112', 'T105', 'T113', 'T111', 'T106', 'T115', 'T109', 'T107', 'T108'}, 'SD155': {'T106', 'T340'}, 'SD156': {'T460', 'T107'}, 'SD157': {'T404', 'T108'}, 'SD158': {'T109', 'T446'}, 'SD159': {'T110', 'T434'}, 'SD160': {'T111'}, 'SD162': {'T112', 'T215'}, 'SD163': {'T276', 'T113'}, 'SD164': {'T114'}, 'SD165': {'T115', 'T459'}, 'SD97': {'T116', 'T330'}, 'N18': {'T116', 'T118', 'T117'}, 'SD100': {'T117', 'T452'}, 'SD193': {'T407', 'T118'}, 'SD190': {'T119', 'T146'}, 'N19': {'T119', 'T120'}, 'SD191': {'T227', 'T467', 'T120'}, 'SD1': {'T462', 'T121', 'T385'}, 'N20': {'T125', 'T122', 'T123', 'T124', 'T121'}, 'SD14': {'T122', 'T376'}, 'SD16': {'T124', 'T224'}, 'SD227': {'T125'}, 'N21': {'T127', 'T126'}, 'SD201': {'T127', 'T189'}, 'SD64': {'T411', 'T128'}, 'N22': {'T129', 'T131', 'T132', 'T133', 'T128', 'T134', 'T130', 'T135'}, 'SD65': {'T280', 'T129'}, 'SD66': {'T130', 'T412'}, 'SD67': {'T131', 'T347'}, 'SD68': {'T132', 'T312'}, 'SD207': {'T313', 'T133'}, 'SD208': {'T134', 'T326'}, 'SD209': {'T135', 'T413'}, 'SD152': {'T336', 'T136'}, 'N23': {'T139', 'T140', 'T136', 'T141', 'T137', 'T138'}, 'SD176': {'T137', 'T341'}, 'SD177': {'T138', 'T405'}, 'SD185': {'T139', 'T305'}, 'SD187': {'T439', 'T141'}, 'N24': {'T143', 'T142'}, 'SD115': {'T143', 'T294'}, 'N25': {'T144', 'T145', 'T146'}, 'SD135': {'T145', 'T429'}, 'SD124': {'T147', 'T186'}, 'N26': {'T147', 'T152', 'T148', 'T150', 'T151', 'T149'}, 'SD125': {'T177', 'T148'}, 'SD140': {'T373', 'T149'}, 'SD215': {'T399', 'T150'}, 'SD216': {'T151', 'T375'}, 'SD217': {'T152', 'T441'}, 'N27': {'T157', 'T155', 'T153', 'T156', 'T158', 'T154', 'T159'}, 'SD29': {'T154', 'T259'}, 'SD30': {'T352', 'T155'}, 'SD31': {'T417', 'T156'}, 'SD32': {'T351', 'T157'}, 'SD33': {'T158', 'T350'}, 'SD236': {'T159'}, 'N28': {'T162', 'T163', 'T161', 'T160'}, 'SD143': {'T161', 'T194'}, 'SD146': {'T366', 'T163'}, 'N29': {'T165', 'T167', 'T164', 'T169', 'T168', 'T166'}, 'SD25': {'T316', 'T165'}, 'SD26': {'T166', 'T315'}, 'SD36': {'T256', 'T167'}, 'SD37': {'T223', 'T168'}, 'SD235': {'T169'}, 'SD63': {'T172', 'T170'}, 'N30': {'T170'}, 'SD62': {'T171', 'T445'}, 'N31': {'T171', 'T175', 'T174', 'T172', 'T173'}, 'SD106': {'T173', 'T299'}, 'SD111': {'T174', 'T358'}, 'SD198': {'T175', 'T382'}, 'SD123': {'T176', 'T364'}, 'N32': {'T180', 'T178', 'T176', 'T177', 'T179'}, 'SD126': {'T178', 'T208'}, 'SD127': {'T179', 'T456'}, 'SD218': {'T348', 'T180'}, 'SD121': {'T181', 'T232'}, 'N33': {'T182', 'T181'}, 'SD214': {'T182', 'T314'}, 'SD130': {'T362', 'T183'}, 'N34': {'T184', 'T185', 'T183'}, 'SD136': {'T184', 'T229'}, 'SD137': {'T237', 'T185'}, 'N35': {'T187', 'T186'}, 'SD237': {'T187'}, 'N36': {'T190', 'T188', 'T191', 'T189'}, 'SD202': {'T190', 'T281'}, 'SD226': {'T191', 'T420'}, 'SD139': {'T192', 'T257'}, 'N37': {'T192', 'T194', 'T195', 'T193'}, 'SD141': {'T432', 'T193'}, 'SD219': {'T203', 'T195'}, 'SD107': {'T196', 'T293'}, 'N38': {'T199', 'T196', 'T198', 'T197'}, 'SD108': {'T197', 'T389'}, 'SD200': {'T199', 'T388'}, 'SD4': {'T241', 'T200'}, 'N39': {'T202', 'T201', 'T200'}, 'SD119': {'T343', 'T463', 'T201'}, 'SD120': {'T231', 'T202'}, 'N41': {'T203', 'T204'}, 'SD238': {'T204'}, 'N43': {'T205'}, 'SD73': {'T266', 'T206'}, 'N44': {'T206'}, 'N45': {'T207'}, 'N46': {'T208'}, 'SD147': {'T335', 'T209'}, 'N47': {'T213', 'T212', 'T211', 'T210', 'T209'}, 'SD148': {'T210', 'T234'}, 'SD149': {'T211', 'T457'}, 'SD150': {'T458', 'T212'}, 'SD151': {'T213', 'T334'}, 'SD161': {'T214', 'T416'}, 'N48': {'T215', 'T219', 'T216', 'T218', 'T214', 'T217'}, 'SD166': {'T438', 'T216'}, 'SD167': {'T217', 'T249'}, 'SD168': {'T437', 'T218'}, 'SD169': {'T219', 'T371'}, 'N49': {'T220', 'T221'}, 'SD3': {'T465', 'T222', 'T283'}, 'N50': {'T223', 'T222'}, 'N51': {'T462', 'T224', 'T468'}, 'N52': {'T227', 'T225', 'T226', 'T228'}, 'SD138': {'T226', 'T349'}, 'SD220': {'T379', 'T228'}, 'N53': {'T229'}, 'SD118': {'T365', 'T230'}, 'N54': {'T231', 'T233', 'T230', 'T232'}, 'SD122': {'T304', 'T233'}, 'N55': {'T236', 'T235', 'T234'}, 'SD224': {'T235', 'T307'}, 'SD225': {'T236', 'T308'}, 'N56': {'T237'}, 'SD69': {'T238', 'T263'}, 'N57': {'T239', 'T238'}, 'SD195': {'T239'}, 'N58': {'T240'}, 'N59': {'T241'}, 'SD17': {'T286', 'T242'}, 'N60': {'T242'}, 'SD234': {'T243'}, 'N61': {'T243'}, 'N62': {'T244'}, 'N63': {'T245'}, 'SD213': {'T246', 'T372'}, 'N64': {'T247', 'T246'}, 'SD231': {'T247'}, 'SD179': {'T274', 'T248'}, 'N65': {'T248'}, 'N66': {'T249'}, 'N67': {'T250'}, 'SD132': {'T251', 'T252'}, 'N68': {'T251'}, 'N69': {'T252', 'T253'}, 'SD133': {'T398', 'T253'}, 'N70': {'T256', 'T254', 'T255'}, 'SD35': {'T377', 'T255'}, 'N71': {'T257'}, 'N72': {'T258'}, 'N74': {'T259'}, 'SD38': {'T260', 'T309'}, 'N75': {'T260', 'T261', 'T262'}, 'SD197': {'T320', 'T262'}, 'N76': {'T264', 'T265', 'T263'}, 'SD116': {'T327', 'T264'}, 'N77': {'T269', 'T270', 'T267', 'T266', 'T268'}, 'SD74': {'T303', 'T267'}, 'SD76': {'T269', 'T282'}, 'N78': {'T271'}, 'SD144': {'T368', 'T272'}, 'N79': {'T273', 'T274', 'T272'}, 'N80': {'T275'}, 'N81': {'T276'}, 'N83': {'T277'}, 'SD105': {'T278', 'T357'}, 'N85': {'T278'}, 'N86': {'T279'}, 'N87': {'T280'}, 'N88': {'T281'}, 'N89': {'T282'}, 'N90': {'T284', 'T283'}, 'SD7': {'T319', 'T285'}, 'N91': {'T286', 'T287', 'T288', 'T285'}, 'SD18': {'T318', 'T287'}, 'SD20': {'T419', 'T288'}, 'N92': {'T289'}, 'N93': {'T290'}, 'N94': {'T291'}, 'N95': {'T292'}, 'N96': {'T293'}, 'N97': {'T294'}, 'SD96': {'T425', 'T295'}, 'N98': {'T296', 'T295', 'T297'}, 'SD98': {'T296', 'T423'}, 'SD99': {'T393', 'T297'}, 'SD104': {'T415', 'T298'}, 'N99': {'T299', 'T298'}, 'SD6': {'T395', 'T300'}, 'N100': {'T302', 'T300', 'T301'}, 'SD211': {'T302', 'T428'}, 'N101': {'T303'}, 'N102': {'T304'}, 'N103': {'T306', 'T305'}, 'N104': {'T308', 'T307'}, 'N105': {'T309'}, 'N106': {'T310', 'T311'}, 'SD42': {'T311', 'T345'}, 'N107': {'T312'}, 'N108': {'T313'}, 'N109': {'T314'}, 'N111': {'T315'}, 'N112': {'T316'}, 'SD10': {'T401', 'T317'}, 'N113': {'T317'}, 'N114': {'T318'}, 'N115': {'T319'}, 'N116': {'T320'}, 'SD47': {'T442', 'T321'}, 'N117': {'T321', 'T322'}, 'N118': {'T323'}, 'N119': {'T324'}, 'N120': {'T326', 'T325'}, 'N121': {'T327'}, 'N122': {'T328'}, 'SD228': {'T329'}, 'N123': {'T329'}, 'N124': {'T330'}, 'SD94': {'T331', 'T424'}, 'N125': {'T331'}, 'N126': {'T332'}, 'SD131': {'T363', 'T333'}, 'N127': {'T333'}, 'N128': {'T334'}, 'N129': {'T335'}, 'N130': {'T337', 'T336'}, 'SD153': {'T338', 'T337'}, 'N131': {'T339', 'T338'}, 'N132': {'T340'}, 'N133': {'T341'}, 'N134': {'T342'}, 'N135': {'T343', 'T463', 'T468'}, 'N138': {'T344', 'T345'}, 'N139': {'T346'}, 'N140': {'T347'}, 'N141': {'T348'}, 'N146': {'T349'}, 'N148': {'T350'}, 'N149': {'T351'}, 'N150': {'T352'}, 'N152': {'T353'}, 'N154': {'T354'}, 'SD60': {'T381', 'T355'}, 'N155': {'T355'}, 'N156': {'T356'}, 'N157': {'T357', 'T358'}, 'N158': {'T359'}, 'N159': {'T469', 'T464', 'T360'}, 'SD129': {'T361', 'T430'}, 'N160': {'T361', 'T363', 'T362'}, 'N161': {'T364'}, 'N162': {'T365'}, 'N163': {'T366', 'T367'}, 'N164': {'T368'}, 'N165': {'T369'}, 'N166': {'T370'}, 'N167': {'T371'}, 'N169': {'T372'}, 'N170': {'T373'}, 'N171': {'T374'}, 'N172': {'T375'}, 'N174': {'T376'}, 'N175': {'T377'}, 'N176': {'T378'}, 'N177': {'T379'}, 'N178': {'T380'}, 'N179': {'T381', 'T382'}, 'N180': {'T383'}, 'N181': {'T384'}, 'N182': {'T385'}, 'N183': {'T386'}, 'N184': {'T387'}, 'N185': {'T388'}, 'N186': {'T390', 'T389'}, 'N187': {'T391'}, 'SD232': {'T392'}, 'N188': {'T392'}, 'N189': {'T393'}, 'N190': {'T394'}, 'N191': {'T395'}, 'N192': {'T396'}, 'N193': {'T397'}, 'N196': {'T398'}, 'N197': {'T399'}, 'N198': {'T400'}, 'N199': {'T401'}, 'N200': {'T402'}, 'N201': {'T403'}, 'N202': {'T404'}, 'N203': {'T405'}, 'N204': {'T406'}, 'N205': {'T407'}, 'N207': {'T408'}, 'N208': {'T409'}, 'N209': {'T410'}, 'N210': {'T411'}, 'N211': {'T412'}, 'N212': {'T413'}, 'N213': {'T414'}, 'N214': {'T415'}, 'N215': {'T416'}, 'N216': {'T417'}, 'N217': {'T418'}, 'N218': {'T419'}, 'N219': {'T420'}, 'N220': {'T421'}, 'N221': {'T422'}, 'N222': {'T423'}, 'N223': {'T425', 'T424'}, 'N224': {'T426'}, 'N225': {'T427'}, 'N226': {'T428'}, 'N227': {'T429'}, 'N228': {'T430'}, 'N229': {'T431'}, 'N230': {'T432'}, 'N231': {'T433'}, 'N232': {'T434'}, 'N233': {'T435'}, 'N234': {'T436'}, 'N235': {'T437'}, 'N236': {'T438'}, 'N237': {'T469', 'T439', 'T466'}, 'N238': {'T440'}, 'N239': {'T441'}, 'N240': {'T442'}, 'N241': {'T443'}, 'N242': {'T444'}, 'N243': {'T445'}, 'N244': {'T446'}, 'N245': {'T447'}, 'N247': {'T448'}, 'N248': {'T449'}, 'N249': {'T450'}, 'SD229': {'T451'}, 'N250': {'T451'}, 'N251': {'T452'}, 'N252': {'T453'}, 'N253': {'T454'}, 'SD233': {'T455'}, 'N254': {'T455'}, 'N255': {'T456'}, 'N256': {'T457'}, 'N257': {'T458'}, 'N258': {'T459'}, 'N259': {'T460'}, 'N260': {'T461'}, 'N194': {'T465', 'T470'}, 'N264': {'T467', 'T470'}})\n"
     ]
    }
   ],
   "source": [
    "\n",
    "\n",
    "# Load the original CSV file\n",
    "#edges_df = pd.read_csv(\"C:/Users/SID-DRW/OneDrive - Delft University of Technology/Desktop/new_boundaries_0204/hugo_test/edges.csv\")\n",
    "edges_df = pd.read_csv(\"C:/Users/SID-DRW/OneDrive - Delft University of Technology/Desktop/new_boundaries_0204/GENERATING_GML/second_round/edges.csv\")\n",
    "\n",
    "# Initialize a dictionary to hold the connection information for each node\n",
    "nodes_connections = defaultdict(set)\n",
    "\n",
    "# Process each row in the edges DataFrame\n",
    "for _, row in edges_df.iterrows():\n",
    "    transition_no = row['TRANSITION']\n",
    "    nodes = [row['Unnamed: 1'], row['Unnamed: 2']]  # Extract the node identifiers\n",
    "    for node in nodes:\n",
    "        nodes_connections[node].add(transition_no)  # Add the transition to the node's connections\n",
    "\n",
    "\n",
    "print(nodes_connections)\n",
    "\n"
   ]
  },
  {
   "cell_type": "code",
   "execution_count": 13,
   "metadata": {},
   "outputs": [
    {
     "data": {
      "text/plain": [
       "'C:/Users/SID-DRW/OneDrive - Delft University of Technology/Desktop/new_boundaries_0204/hugo_test/delete_this_test.csv'"
      ]
     },
     "execution_count": 13,
     "metadata": {},
     "output_type": "execute_result"
    }
   ],
   "source": [
    "\n",
    "\n",
    "# Simplified data snippet for demonstration\n",
    "data = {\n",
    "    'SD8': {'T1', 'T153'}, 'S1': {'T1', 'T2', 'T3'}, 'SD72': {'T2', 'T37'},\n",
    "    'SD75': {'T3', 'T268'}, 'SD39': {'T4', 'T261'}, 'S2': {'T11', 'T4', 'T13', 'T9', 'T10', 'T12', 'T14', 'T15', 'T7', 'T5', 'T6', 'T8'},\n",
    "}\n",
    "\n",
    "# Specify the CSV file path\n",
    "csv_file_path = \"C:/Users/SID-DRW/OneDrive - Delft University of Technology/Desktop/new_boundaries_0204/hugo_test/delete_this_test.csv\"\n",
    "\n",
    "# Writing to the CSV file\n",
    "with open(csv_file_path, mode='w', newline='') as file:\n",
    "    writer = csv.writer(file)\n",
    "    writer.writerow(['Nodes', 'Edges'])  # Writing the header\n",
    "    \n",
    "    for key, values in nodes_connections.items():\n",
    "        # Flatten the set of values into a string separated by commas\n",
    "        values_str = ','.join(sorted(values))\n",
    "        writer.writerow([key, values_str])\n",
    "\n",
    "# Return the path to the CSV file\n",
    "csv_file_path\n"
   ]
  },
  {
   "cell_type": "code",
   "execution_count": 14,
   "metadata": {},
   "outputs": [],
   "source": [
    "\n",
    "\n",
    "# Corrected sorting key function\n",
    "def sort_key_improved(x):\n",
    "    node = x[0]\n",
    "    if node.startswith('S') and not node.startswith('SD'):  # Separate 'S' nodes from 'SD'\n",
    "        return (0, int(node[1:]) if node[1:].isdigit() else float('inf'))\n",
    "    elif node.startswith('SD'):  # Then sort 'SD' nodes\n",
    "        return (1, int(node[2:]) if node[2:].isdigit() else float('inf'))\n",
    "    return (2, node)  # Fallback\n",
    "\n",
    "# Define the input and output file paths\n",
    "csv_input_path = csv_file_path\n",
    "csv_output_path_improved = \"C:/Users/SID-DRW/OneDrive - Delft University of Technology/Desktop/new_boundaries_0204/hugo_test/sorted_nodes.csv\"\n",
    "\n",
    "# Read the data from the CSV file\n",
    "data = []\n",
    "with open(csv_input_path, mode='r', newline='') as file:\n",
    "    reader = csv.reader(file)\n",
    "    header = next(reader)  # Skip the header\n",
    "    data = [row for row in reader]\n",
    "\n",
    "# Sort the data using the improved sorting key\n",
    "data_sorted_improved = sorted(data, key=sort_key_improved)\n",
    "\n",
    "# Write the sorted data to a new CSV file\n",
    "with open(csv_output_path_improved, mode='w', newline='') as file:\n",
    "    writer = csv.writer(file)\n",
    "    writer.writerow(header)  # Re-write the header\n",
    "    writer.writerows(data_sorted_improved)\n"
   ]
  },
  {
   "cell_type": "code",
   "execution_count": 15,
   "metadata": {},
   "outputs": [],
   "source": [
    "\n",
    "\n",
    "# Paths for the two CSV files\n",
    "file1_path = \"C:/Users/SID-DRW/OneDrive - Delft University of Technology/Desktop/new_boundaries_0204/GH/state_data_processing/state_withou_title_plus_doorPoints_spaceDeleted.csv\"\n",
    "file2_path = csv_output_path_improved\n",
    "\n",
    "# Load the first CSV file assuming it does not have a header\n",
    "df1 = pd.read_csv(file1_path, header=None)\n",
    "\n",
    "# Load the second CSV file which has headers\n",
    "df2 = pd.read_csv(file2_path)\n",
    "\n",
    "# Assigning temporary column names to df1 for clarity\n",
    "df1.columns = ['Node', 'CellSpace', 'Coordinates']\n",
    "\n",
    "# Ensuring column names in df2 match our expected names for clarity\n",
    "# This step might be redundant if the names already match but ensures clarity\n",
    "df2.columns = ['Node', 'edges']\n",
    "\n",
    "# Merging the two DataFrames based on the 'Node' column\n",
    "# The 'Associated Values' from df2 are added to df1 based on matching 'Node' values\n",
    "merged_df = df1.merge(df2, on='Node', how='left')\n",
    "\n",
    "# Specify the output file path for the merged DataFrame\n",
    "output_csv_path_corrected = \"C:/Users/SID-DRW/OneDrive - Delft University of Technology/Desktop/new_boundaries_0204/GENERATING_GML/states_and_edges.csv\"\n",
    "\n",
    "# Save the merged DataFrame to a new CSV file\n",
    "merged_df.to_csv(output_csv_path_corrected, index=False)\n"
   ]
  },
  {
   "cell_type": "code",
   "execution_count": 16,
   "metadata": {},
   "outputs": [],
   "source": [
    "# Paths for the two CSV files\n",
    "file1_path = \"C:/Users/SID-DRW/OneDrive - Delft University of Technology/Desktop/new_boundaries_0204/GH/state_data_processing/state_withou_title_plus_doorPoints_spaceDeleted.csv\"\n",
    "file2_path = csv_output_path_improved\n",
    "\n",
    "# Load the first CSV file assuming it does not have a header\n",
    "df1 = pd.read_csv(file1_path, header=None)\n",
    "\n",
    "# Load the second CSV file which has headers\n",
    "df2 = pd.read_csv(file2_path)\n",
    "\n",
    "# Assigning temporary column names to df1 for clarity\n",
    "df1.columns = ['Node', 'CellSpace', 'Coordinates']\n",
    "\n",
    "# Ensuring column names in df2 match our expected names for clarity\n",
    "# This step might be redundant if the names already match but ensures clarity\n",
    "df2.columns = ['Node', 'edges']\n",
    "\n",
    "# Merging the two DataFrames based on the 'Node' column\n",
    "# The 'Associated Values' from df2 are added to df1 based on matching 'Node' values\n",
    "merged_df = df1.merge(df2, on='Node', how='left')\n",
    "\n",
    "# Specify the output file path for the merged DataFrame\n",
    "output_csv_path_corrected = \"C:/Users/SID-DRW/OneDrive - Delft University of Technology/Desktop/new_boundaries_0204/GENERATING_GML/second_round/states_and_edges.csv\"\n",
    "\n",
    "# Save the merged DataFrame to a new CSV file\n",
    "merged_df.to_csv(output_csv_path_corrected, index=False,header=0)"
   ]
  }
 ],
 "metadata": {
  "kernelspec": {
   "display_name": "HDSS",
   "language": "python",
   "name": "python3"
  },
  "language_info": {
   "codemirror_mode": {
    "name": "ipython",
    "version": 3
   },
   "file_extension": ".py",
   "mimetype": "text/x-python",
   "name": "python",
   "nbconvert_exporter": "python",
   "pygments_lexer": "ipython3",
   "version": "3.11.5"
  }
 },
 "nbformat": 4,
 "nbformat_minor": 2
}
