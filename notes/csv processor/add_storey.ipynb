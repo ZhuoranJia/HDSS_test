{
 "cells": [
  {
   "cell_type": "code",
   "execution_count": 13,
   "metadata": {},
   "outputs": [],
   "source": [
    "import pandas as pd\n",
    "\n",
    "# Function to determine the floor number based on the last number in the fourth column\n",
    "def assign_floor(row):\n",
    "    last_number = float(row.split(',')[-1])\n",
    "    if last_number == 0.000:\n",
    "        return 0\n",
    "    elif last_number == 4.570:\n",
    "        return 1\n",
    "    elif last_number == 9.250:\n",
    "        return 2\n",
    "    else:\n",
    "        return None"
   ]
  },
  {
   "cell_type": "code",
   "execution_count": 14,
   "metadata": {},
   "outputs": [],
   "source": [
    "file_path = \"C:/Users/SID-DRW/OneDrive - Delft University of Technology/Desktop/new_boundaries_0204/cellspace_data_processing/room_boundaries_without_storey.csv\" \n",
    "df_original = pd.read_csv(file_path)"
   ]
  },
  {
   "cell_type": "code",
   "execution_count": 15,
   "metadata": {},
   "outputs": [],
   "source": [
    "# Apply the function to determine the floor number\n",
    "floor_numbers = df_original.iloc[:, 3].apply(assign_floor)\n",
    "\n",
    "# Inserting the floor numbers into the DataFrame as the second column\n",
    "df_original.insert(1, 'Floor Number', floor_numbers)\n",
    "\n",
    "# Removing the original unnamed third column\n",
    "df_original.drop(df_original.columns[2], axis=1, inplace=True)\n",
    "\n",
    "# Renaming the second column header to '0'\n",
    "df_original.columns.values[1] = 0"
   ]
  },
  {
   "cell_type": "code",
   "execution_count": 16,
   "metadata": {},
   "outputs": [],
   "source": [
    "# Saving the updated DataFrame to a new CSV file, without the header and index\n",
    "final_corrected_file_path = \"C:/Users/SID-DRW/OneDrive - Delft University of Technology/Desktop/new_boundaries_0204/cellspace_data_processing/room_boundaries_with_storey.csv\"    \n",
    "df_original.to_csv(final_corrected_file_path, index=False, header=False)"
   ]
  }
 ],
 "metadata": {
  "kernelspec": {
   "display_name": "HDSS",
   "language": "python",
   "name": "python3"
  },
  "language_info": {
   "codemirror_mode": {
    "name": "ipython",
    "version": 3
   },
   "file_extension": ".py",
   "mimetype": "text/x-python",
   "name": "python",
   "nbconvert_exporter": "python",
   "pygments_lexer": "ipython3",
   "version": "3.11.5"
  }
 },
 "nbformat": 4,
 "nbformat_minor": 2
}
