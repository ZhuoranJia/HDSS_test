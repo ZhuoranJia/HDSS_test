{
 "cells": [
  {
   "cell_type": "code",
   "execution_count": 26,
   "metadata": {},
   "outputs": [],
   "source": [
    "import pandas as pd"
   ]
  },
  {
   "cell_type": "code",
   "execution_count": 27,
   "metadata": {},
   "outputs": [],
   "source": [
    "# Load the CSV file, assuming no header\n",
    "file_path = \"C:/Users/SID-DRW/OneDrive - Delft University of Technology/Desktop/new_boundaries_0204/GH/real_boor_boundaries.csv\"\n",
    "data = pd.read_csv(file_path, header=None)"
   ]
  },
  {
   "cell_type": "code",
   "execution_count": 28,
   "metadata": {},
   "outputs": [],
   "source": [
    "# Combine all three cells in each row into one cell, separated by commas\n",
    "combined_cells = data.astype(str).apply(lambda x: ','.join(x), axis=1)\n",
    "\n",
    "# Now, group every four rows into one row with four columns and then append the first cell's data as the fifth cell\n",
    "rows_list = []\n",
    "\n",
    "# Iterate through the combined_cells with a step of 4\n",
    "for i in range(0, len(combined_cells), 4):\n",
    "    # Select up to the next four entries, filling with None if there are less than four\n",
    "    row_data = combined_cells[i:i+4].tolist()\n",
    "    # Ensure the row has exactly four elements before appending the first element again at the end\n",
    "    row_data += [None] * (4 - len(row_data))  # Adjust the row size to 4 if it's shorter\n",
    "    row_data.append(row_data[0])  # Append the first cell's data as the fifth cell\n",
    "    rows_list.append(row_data)\n",
    "\n",
    "# Convert the list of lists into a DataFrame\n",
    "grouped_df_with_five_cells = pd.DataFrame(rows_list, columns=['Column 1', 'Column 2', 'Column 3', 'Column 4', 'Column 5'])"
   ]
  },
  {
   "cell_type": "code",
   "execution_count": 29,
   "metadata": {},
   "outputs": [
    {
     "name": "stdout",
     "output_type": "stream",
     "text": [
      "              Column 1             Column 2             Column 3  \\\n",
      "0   -51.183,10.982,0.0   -51.183,11.982,0.0   -51.183,11.982,2.0   \n",
      "1  -47.247,31.229,4.57  -47.247,32.229,4.57  -47.247,32.229,6.57   \n",
      "2    -8.637,27.582,0.0    -7.637,27.582,0.0    -7.637,27.582,2.0   \n",
      "3    -6.518,14.187,0.0    -6.518,15.187,0.0    -6.518,15.187,2.0   \n",
      "4   -20.892,10.327,0.0   -20.892,11.327,0.0   -20.892,11.327,2.0   \n",
      "\n",
      "              Column 4             Column 5  \n",
      "0   -51.183,10.982,2.0   -51.183,10.982,0.0  \n",
      "1  -47.247,31.229,6.57  -47.247,31.229,4.57  \n",
      "2    -8.637,27.582,2.0    -8.637,27.582,0.0  \n",
      "3    -6.518,14.187,2.0    -6.518,14.187,0.0  \n",
      "4   -20.892,10.327,2.0   -20.892,10.327,0.0  \n"
     ]
    }
   ],
   "source": [
    "# Display the first few rows of the transformed DataFrame\n",
    "print(grouped_df_with_five_cells.head())"
   ]
  },
  {
   "cell_type": "code",
   "execution_count": 30,
   "metadata": {},
   "outputs": [],
   "source": [
    "new_file_path = \"C:/Users/SID-DRW/OneDrive - Delft University of Technology/Desktop/new_boundaries_0204/GH/door_data_processing/real_grouped_boor_boundaries.csv\"\n",
    "\n",
    "# Save the DataFrame to a new CSV file\n",
    "grouped_df_with_five_cells.to_csv(new_file_path, index=False)"
   ]
  }
 ],
 "metadata": {
  "kernelspec": {
   "display_name": "HDSS",
   "language": "python",
   "name": "python3"
  },
  "language_info": {
   "codemirror_mode": {
    "name": "ipython",
    "version": 3
   },
   "file_extension": ".py",
   "mimetype": "text/x-python",
   "name": "python",
   "nbconvert_exporter": "python",
   "pygments_lexer": "ipython3",
   "version": "3.11.5"
  }
 },
 "nbformat": 4,
 "nbformat_minor": 2
}
